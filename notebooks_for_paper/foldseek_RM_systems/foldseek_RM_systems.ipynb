{
 "cells": [
  {
   "cell_type": "markdown",
   "metadata": {},
   "source": [
    "# Using protein language models, Foldseek, and Domainator to identify divergent restriction enzymes\n",
    "\n",
    "Requires esmologs to be installed in the same environment as Domainator. See [here](../../docs/esm_3b_foldseek.md) for more information.\n",
    "\n",
    "![Overview of RE discovery](../media/RE_workflow_web.png)\n",
    "\n",
    "__References__:\n",
    "\n",
    "- Johnson, Sean R., Meghana Peshwa, and Zhiyi Sun. “Sensitive Remote Homology Search by Local Alignment of Small Positional Embeddings from Protein Language Models.” eLife 12 (October 27, 2023). [https://doi.org/10.7554/eLife.91415.1](https://doi.org/10.7554/eLife.91415.1).\n",
    "- Roberts, Richard J, Tamas Vincze, Janos Posfai, and Dana Macelis. “REBASE: A Database for DNA Restriction and Modification: Enzymes, Genes and Genomes.” Nucleic Acids Research 51, no. D1 (January 6, 2023): D629–30. [https://doi.org/10.1093/nar/gkac975](https://doi.org/10.1093/nar/gkac975).\n",
    "- Kempen, Michel van, Stephanie S. Kim, Charlotte Tumescheit, Milot Mirdita, Jeongjae Lee, Cameron L. M. Gilchrist, Johannes Söding, and Martin Steinegger. “Fast and Accurate Protein Structure Search with Foldseek.” Nature Biotechnology, May 8, 2023. [https://doi.org/10.1038/s41587-023-01773-0](https://doi.org/10.1038/s41587-023-01773-0).\n",
    "\n"
   ]
  },
  {
   "cell_type": "code",
   "execution_count": null,
   "metadata": {},
   "outputs": [],
   "source": [
    "from esmologs.utils import iter_fasta\n",
    "from domainator.partition_seqfile import partition_seqfile\n",
    "import torch\n",
    "import subprocess\n",
    "import pandas as pd"
   ]
  },
  {
   "cell_type": "code",
   "execution_count": 2,
   "metadata": {},
   "outputs": [],
   "source": [
    "%%bash\n",
    "\n",
    "mkdir -p ../resources\n",
    "\n",
    "#download ESM-3 3B 3Di weights\n",
    "if [ ! -f ../resources/ESM-2_3B_3Di.pt ]; then\n",
    "    wget -O ../resources/ESM-2_3B_3Di.pt https://zenodo.org/record/8174960/files/ESM-2_3B_3Di.pt --no-check-certificate > /dev/null 2>&1\n",
    "fi\n",
    "\n"
   ]
  },
  {
   "cell_type": "code",
   "execution_count": null,
   "metadata": {},
   "outputs": [],
   "source": [
    "%%bash\n",
    "if [ ! -f ../resources/ncbi_complete.gb ]; then\n",
    "    # For the paper, we did not limit --num_recs, but that will give a file larger than 360 Gb, so we limit to 100 records here\n",
    "    # just comment out the --num_recs option to download the complete dataset\n",
    "    domainator_db_download.py --db ncbi_complete_genome_proks -o ../resources/ncbi_complete.gb --gene_call unannotated --num_recs 100\n",
    "fi\n"
   ]
  },
  {
   "cell_type": "code",
   "execution_count": 4,
   "metadata": {},
   "outputs": [],
   "source": [
    "# REBASE gold standard proteins in this example were downloaded on Dec. 12, 2022\n",
    "\n",
    "# extract methyltransferase sequences from REBASE Gold Standards\n",
    "\n",
    "prefixes = {\"M.\", \"M1.\", \"M2.\", \"M3.\", \"M4.\"} #headers for things that are MTs\n",
    "with open(\"../resources/REBASE_Gold_Standards.fasta\", \"r\") as pep_in, open(\"REBASE_gold_MTs.fasta\", \"w\") as MT_out:\n",
    "    for pep_header, pep_seq in iter_fasta(pep_in, full_name=True):\n",
    "       pep_name = pep_header.split(' ')[0]\n",
    "       if any((pep_name.startswith(prefix) for prefix in prefixes)):\n",
    "           print(f\">{pep_header}\\n{pep_seq}\",file=MT_out)"
   ]
  },
  {
   "cell_type": "code",
   "execution_count": 5,
   "metadata": {},
   "outputs": [],
   "source": [
    "# extract restriction enzyme sequences from REBASE Gold Standards\n",
    "prefixes = {\"M.\", \"M1.\", \"M2.\", \"M3.\", \"M4.\", \"S.\", \"H.\", \"C.\", \"S1.\", \"S2.\"} #headers for things that are not REs\n",
    "descriptions = {\"enzyme/methyltransferase\"}\n",
    "\n",
    "with open(\"../resources/REBASE_Gold_Standards.fasta\", \"r\") as pep_in, open(\"REBASE_gold_REs.txt\", \"w\") as RE_out:\n",
    "    for pep_header, pep_seq in iter_fasta(pep_in, full_name=True):\n",
    "        pep_name = pep_header.split(' ')[0]\n",
    "\n",
    "        if any((pep_name.startswith(prefix) for prefix in prefixes)):\n",
    "            continue\n",
    "\n",
    "        if any((desc in pep_header for desc in descriptions)):\n",
    "            continue\n",
    "\n",
    "        print(pep_name,file=RE_out)"
   ]
  },
  {
   "cell_type": "code",
   "execution_count": null,
   "metadata": {},
   "outputs": [],
   "source": [
    "# extract Type II restriction enzyme sequences from REBASE Gold Standards\n",
    "# type_II_subset.txt is a file with the names of the Type II REs, it excludes a few, such as TspDTI and BbrUII, which seem to be far overrepresented in hits, and may be lead to lots of false positives.\n",
    "! select_by_contig.py -i ../resources/REBASE_Gold_Standards.fasta -o Type_II_RE.fasta --fasta_out --contigs_file ../resources/type_II_subset.txt\n"
   ]
  },
  {
   "cell_type": "code",
   "execution_count": null,
   "metadata": {},
   "outputs": [],
   "source": [
    "# Convert the Type II RE sequences to 3Di\n",
    "! predict_from_ESM2_to_3Di.py -i Type_II_RE.fasta -o Type_II_RE.3di.fasta --weights ../resources/ESM-2_3B_3Di.pt --device cuda:0"
   ]
  },
  {
   "cell_type": "code",
   "execution_count": null,
   "metadata": {},
   "outputs": [],
   "source": [
    "# Convert the Type II RE sequences to a Foldseek database\n",
    "! fasta2foldseek.py --aa Type_II_RE.fasta --tdi Type_II_RE.3di.fasta -o Type_II_RE"
   ]
  },
  {
   "cell_type": "code",
   "execution_count": 11,
   "metadata": {},
   "outputs": [],
   "source": [
    "# extract neighborhoods 4 ORFs up and downstream from MTs\n",
    "! domain_search.py -i ../resources/ncbi_complete.gb -r REBASE_gold_MTs.fasta --no_annotations -o MT_nbs.gb --cds_range 4 -e 1e-10 --max_region_overlap 0.1 --cpu 0  > /dev/null 2>&1"
   ]
  },
  {
   "cell_type": "code",
   "execution_count": 15,
   "metadata": {},
   "outputs": [],
   "source": [
    "# add REBASE gold standard phmmer annotations\n",
    "! domainate.py -i MT_nbs.gb -r ../resources/REBASE_Gold_Standards.fasta -o MT_nbs.annot.gb -e 0.001 --cpu 0  --max_overlap 0.6 > /dev/null 2>&1\n"
   ]
  },
  {
   "cell_type": "code",
   "execution_count": null,
   "metadata": {},
   "outputs": [],
   "source": [
    "# get contigs not containing any RE annotations\n",
    "! select_by_contig.py -i MT_nbs.annot.gb -o orphan_MTs.gb --invert --domains_file REBASE_gold_REs.txt"
   ]
  },
  {
   "cell_type": "code",
   "execution_count": null,
   "metadata": {},
   "outputs": [],
   "source": [
    "# Run domainate with protein language model and Foldseek\n",
    "\n",
    "# if multiple GPUs are available, partition the file and run domainate.py on each partition\n",
    "num_gpus = torch.cuda.device_count()\n",
    "_, offset_list = partition_seqfile(\"orphan_MTs.gb\", partitions=num_gpus)\n",
    "open_processes = []\n",
    "for i, (fname, offset, recs_to_read) in enumerate(offset_list):\n",
    "    open_processes.append(\n",
    "    subprocess.Popen([\"domainate.py\", \"-i\", fname, \"--offset\", str(offset), \"--recs_to_read\", str(recs_to_read),\n",
    "                    \"--foldseek\", \"Type_II_RE\",\n",
    "                    \"--hits_only\", \n",
    "                    \"-o\", f\"cryptic_RMs_{i}.gb\",\n",
    "                    \"--cpu\", \"2\",\n",
    "                    \"-e\", \"1e-10\",\n",
    "                    \"--max_overlap\", \"0.6\", \n",
    "                    \"--esm2_3Di_device\", f\"cuda:{i}\",\n",
    "                    \"--esm2_3Di_weights\", \"../resources/ESM-2_3B_3Di.pt\"])\n",
    "    )\n",
    "\n",
    "for p in open_processes:\n",
    "    p.wait()\n",
    "    \n",
    "# merge the results\n",
    "! cat cryptic_RMs_*.gb > cryptic_RMs.gb\n"
   ]
  },
  {
   "cell_type": "code",
   "execution_count": null,
   "metadata": {},
   "outputs": [],
   "source": [
    "# Extract the peptides from the cryptic RMs\n",
    "! extract_peptides.py -i cryptic_RMs.gb -o putative_REs.gb --domains_file ../resources/type_II_subset.txt --database Type_II_RE"
   ]
  },
  {
   "cell_type": "code",
   "execution_count": null,
   "metadata": {},
   "outputs": [],
   "source": [
    "# extract and combine cryptic RM annotations\n",
    "! enum_report.py -i cryptic_RMs.gb -o cryptic_RMs.tsv --length --domains --domain_descriptions --domain_search --column_names contig 'contig_length(bp)' domains domain_descriptions best_MT MT_description MT_query_start MT_query_end MT_query_length MT_hit_start MT_hit_end MT_hit_strand MT_domain_score 'MT_domain_identity(%)'\n",
    "! enum_report.py --by cds -i cryptic_RMs.gb -o cryptic_RMs_CDS_to_contig.tsv \n",
    "! enum_report.py -i putative_REs.gb -o putative_REs.tsv --length --domains --domain_descriptions --column_names RE_CDS 'RE_length(aa)' RE_domains RE_domain_descriptions\n",
    "\n"
   ]
  },
  {
   "cell_type": "code",
   "execution_count": 38,
   "metadata": {},
   "outputs": [],
   "source": [
    "# merge the tables\n",
    "contig_df = pd.read_csv(\"cryptic_RMs.tsv\", sep=\"\\t\")\n",
    "RM_to_CDS = pd.read_csv(\"cryptic_RMs_CDS_to_contig.tsv\", sep=\"\\t\")\n",
    "RE_df = pd.read_csv(\"putative_REs.tsv\", sep=\"\\t\")\n",
    "\n",
    "# merge the dataframes\n",
    "RE_df = RE_df.merge(RM_to_CDS, left_on=\"RE_CDS\", right_on=\"cds\", how=\"left\")\n",
    "RE_df = RE_df.merge(contig_df, left_on=\"contig\", right_on=\"contig\", how=\"left\")\n",
    "\n",
    "RE_df.drop_duplicates(subset=\"RE_CDS\", keep='first', inplace=True, ignore_index=True)\n",
    "\n",
    "RE_df.to_csv(\"RE_metadata.tsv\", sep=\"\\t\", index=False)"
   ]
  },
  {
   "cell_type": "code",
   "execution_count": null,
   "metadata": {},
   "outputs": [],
   "source": [
    "# Calculate EFI scores between the putative REs\n",
    "! seq_dist.py --cpu 16 -i putative_REs.gb -r putative_REs.gb --sparse RE_dist.hdf5 --mode efi_score"
   ]
  },
  {
   "cell_type": "code",
   "execution_count": 44,
   "metadata": {},
   "outputs": [
    {
     "name": "stdout",
     "output_type": "stream",
     "text": [
      "/mnt/home/sjohnson/anaconda3/envs/esmologs/bin/matrix_report.py:4: DeprecationWarning: pkg_resources is deprecated as an API. See https://setuptools.pypa.io/en/latest/pkg_resources.html\n",
      "  __import__('pkg_resources').require('domainator==0.6.3')\n",
      "Matrix Report\n",
      "Total values: 7333264\n",
      "Non-zero values: 390995\n",
      "Mean: 119.22262179927645\n",
      "Median: 106.64179905430898\n",
      "Min: 5.870701074551252\n",
      "Max: 885.9112107407537\n",
      "        \n",
      "\n",
      "      --------------------------------------------------------------------------------------------------------\n",
      "      |                                            Matrix Values                                             |\n",
      "      --------------------------------------------------------------------------------------------------------\n",
      "\n",
      " 64765|  o                                                 \n",
      " 61356|  o                                                 \n",
      " 57948|  o                                                 \n",
      " 54539|  o                                                 \n",
      " 51130|  o                                                 \n",
      " 47722|  o                                                 \n",
      " 44313|  o    o                                            \n",
      " 40904|  o    o                                            \n",
      " 37496|  o    o                                            \n",
      " 34087|  oo   oo                                           \n",
      " 30678|  oo   oo                                           \n",
      " 27270|  ooo  oo                                           \n",
      " 23861|  ooo  oo oo                                        \n",
      " 20452|  oooo oo oo                                        \n",
      " 17044|  oooo ooooo                                        \n",
      " 13635|  oooo ooooo                                        \n",
      " 10226|  oooooooooo  o  o                                  \n",
      "  6818|  ooooooooooo o  oo                                 \n",
      "  3409|  ooooooooooooo  oo   o   o                         \n",
      "     1| ooooooooooooooooooooooooooooooooooooo ooooooooooooo\n",
      "       ---------------------------------------------------\n",
      "       5 4 7 1 1 1 2 2 2 3 3 3 4 4 4 5 5 6 6 6 7 7 7 8 8 8 \n",
      "       . 1 6 1 4 8 1 5 8 2 5 9 2 6 9 3 6 0 3 7 0 4 8 1 5 8 \n",
      "       8 . . 1 6 1 7 2 7 2 7 3 8 3 8 3 9 4 9 4 9 5 0 5 0 5 \n",
      "       7 0 2 . . . . . . . . . . . . . . . . . . . . . . . \n",
      "       0 7 7 4 6 8 0 2 4 6 8 0 2 4 6 8 0 2 4 7 9 1 3 5 7 9 \n",
      "       7 2 3 7 7 7 8 8 8 8 8 8 9 9 9 9 9 9 9 0 0 0 0 0 0 1 \n",
      "       0 3 9 5 7 8 0 2 3 5 6 8 0 1 3 5 6 8 9 1 3 4 6 7 9 1 \n",
      "       1 2 4 5 1 8 4 0 6 2 9 5 1 7 3 0 6 2 8 4 1 7 3 9 5 2 \n",
      "\n"
     ]
    }
   ],
   "source": [
    "! matrix_report.py -i RE_dist.hdf5 -o /dev/stdout"
   ]
  },
  {
   "cell_type": "code",
   "execution_count": 17,
   "metadata": {},
   "outputs": [],
   "source": [
    "# build a sequence similarity network. After the SSN is built, the xgmml file can be visualized with Cytoscape. Use the Layout->Prefuse Force Directed Layout to visualize the network.\n",
    "! build_ssn.py -i RE_dist.hdf5 --xgmml putative_REs.xgmml --metadata RE_metadata.tsv --color_by best_MT --lb 40 --cluster_tsv putative_REs_clusters.tsv"
   ]
  },
  {
   "cell_type": "code",
   "execution_count": 20,
   "metadata": {},
   "outputs": [],
   "source": [
    "import pandas as pd\n",
    "import subprocess\n",
    "RE_df = pd.read_table(\"RE_metadata.tsv\")\n",
    "clusters_table = pd.read_table(\"putative_REs_clusters.tsv\")\n",
    "# rename columns\n",
    "clusters_table.rename(columns={\"contig\": \"RE_CDS\"}, inplace=True)\n",
    "# add cluster column to RE metadata\n",
    "RE_df = RE_df.merge(clusters_table, left_on=\"RE_CDS\", right_on=\"RE_CDS\", how=\"left\")\n",
    "for i in range(0, 100):\n",
    "    idx = i + 1\n",
    "    idx_zfill = str(idx).zfill(3)\n",
    "    RE_df[RE_df[\"cluster\"] == idx][\"contig\"].to_csv(f\"cluster_{idx_zfill}.tsv\", sep=\"\\t\", index=False, header=False)\n",
    "    subprocess.run([\"select_by_contig.py\", \"-i\", \"cryptic_RMs.gb\", \"-o\", f\"cluster_rep_{idx_zfill}.gb\", \"--contigs_file\", f\"cluster_{idx_zfill}.tsv\", \"--first\", \"1\"])\n",
    "\n"
   ]
  },
  {
   "cell_type": "code",
   "execution_count": 28,
   "metadata": {},
   "outputs": [
    {
     "data": {
      "text/plain": [
       "True"
      ]
     },
     "execution_count": 28,
     "metadata": {},
     "output_type": "execute_result"
    }
   ],
   "source": [
    "import webbrowser\n",
    "RE_df[[\"contig\", \"cluster\"]].to_csv(\"clusters_for_plots.tsv\", sep=\"\\t\", index=False)\n",
    "! plot_contigs.py -i cluster_rep_*.gb --html clusters_plot.html --metadata clusters_for_plots.tsv --color_by \"cluster\"\n",
    "webbrowser.open(\"clusters_plot.html\")"
   ]
  }
 ],
 "metadata": {
  "kernelspec": {
   "display_name": "domainator",
   "language": "python",
   "name": "python3"
  },
  "language_info": {
   "codemirror_mode": {
    "name": "ipython",
    "version": 3
   },
   "file_extension": ".py",
   "mimetype": "text/x-python",
   "name": "python",
   "nbconvert_exporter": "python",
   "pygments_lexer": "ipython3",
   "version": "3.10.12"
  }
 },
 "nbformat": 4,
 "nbformat_minor": 2
}
