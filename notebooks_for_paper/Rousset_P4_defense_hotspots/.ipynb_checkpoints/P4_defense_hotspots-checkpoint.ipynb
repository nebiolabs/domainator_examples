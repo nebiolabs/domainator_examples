{
 "cells": [
  {
   "cell_type": "markdown",
   "metadata": {},
   "source": [
    "# Example of extracting, annotating, and clustering P4-like defense hotspots from _E. coli_ genomes\n",
    "\n",
    "__Reference__:\n",
    "\n",
    "Rousset, François, Florence Depardieu, Solange Miele, Julien Dowding, Anne-Laure Laval, Erica Lieberman, Daniel Garry, Eduardo P. C. Rocha, Aude Bernheim, and David Bikard. “Phages and Their Satellites Encode Hotspots of Antiviral Systems.” Cell Host & Microbe 30, no. 5 (May 11, 2022): 740-753.e5. [https://doi.org/10.1016/j.chom.2022.02.018](https://doi.org/10.1016/j.chom.2022.02.018).\n",
    "\n",
    "## Workflow overview\n",
    "\n",
    "![Overview of P4 defense hotspot workflow](../media/P4_workflow_web.png)\n"
   ]
  },
  {
   "cell_type": "code",
   "execution_count": 3,
   "metadata": {},
   "outputs": [],
   "source": [
    "import pandas as pd\n",
    "import subprocess\n",
    "import seaborn as sns\n",
    "import os\n",
    "os.environ['QT_QPA_PLATFORM']='offscreen'\n",
    "import ete3\n",
    "from ete3 import Tree, TreeStyle, NodeStyle, faces, SeqMotifFace, TextFace, AttrFace\n",
    "import pandas as pd\n",
    "import matplotlib.pyplot as plt\n",
    "import scipy as sp"
   ]
  },
  {
   "cell_type": "code",
   "execution_count": 2,
   "metadata": {},
   "outputs": [],
   "source": [
    "%%bash\n",
    "# Download Pfam-A.hmm\n",
    "\n",
    "mkdir -p ../resources\n",
    "\n",
    "if [ ! -f ../resources/Pfam-A.hmm ]; then\n",
    "    wget -O ../resources/Pfam-A.hmm.gz https://ftp.ebi.ac.uk/pub/databases/Pfam/releases/Pfam36.0/Pfam-A.hmm.gz --no-check-certificate\n",
    "    gunzip ../resources/Pfam-A.hmm.gz\n",
    "fi\n",
    "\n"
   ]
  },
  {
   "cell_type": "code",
   "execution_count": 3,
   "metadata": {},
   "outputs": [
    {
     "name": "stdout",
     "output_type": "stream",
     "text": [
      "Found 1 matching profiles.\n"
     ]
    }
   ],
   "source": [
    "# get the Psu profile in its own file\n",
    "# could also just download the files from the InterPro website.\n",
    "! hmmer_select.py -i ../resources/Pfam-A.hmm -o Psu.hmm --field name --exact Psu"
   ]
  },
  {
   "cell_type": "code",
   "execution_count": 7,
   "metadata": {},
   "outputs": [],
   "source": [
    "%%bash \n",
    "# Download genomes\n",
    "\n",
    "\n",
    "# 543 is the taxid for Enterobacteriaceae\n",
    "# 562 is the taxid for Escherichia coli\n",
    "\n",
    "# I'm not sure exactly which one of these comes closest to what was used in Rousset et al. 2022. They report 20,125 E. coli genomes as of August 2020\n",
    "# I'm working in November 2023, and everything I try either gives me way too many genomes or too few.\n",
    "if [ ! -f ../resources/e_coli_non_redundant_genomes.gb ]; then\n",
    "    # WARNING, this file will be > 30 GB, if you want to test on a smaller file, you can use the --num_recs option, for example: --num_recs 500 will download the first 500 genomes.\n",
    "    domainator_db_download.py --db ncbi_nonredundant_proks --include_taxids 562 -o ../resources/e_coli_non_redundant_genomes.gb # ~2,718 genomes # used for Domainator paper\n",
    "fi\n",
    "\n",
    "rm -f target_genomes.gb\n",
    "ln -s ../resources/e_coli_non_redundant_genomes.gb target_genomes.gb\n",
    "\n",
    "#!domainator_db_download.py --db ncbi_complete_genome_proks --include_taxids 543 -o enterobacteria_complete_genomes.gb\n",
    "#!domainator_db_download.py --db ncbi_representative_proks --include_taxids 543 -o enterobacteria_representative_genomes.gb\n",
    "#!domainator_db_download.py --db ncbi_all --include_taxids 562 -o e_coli_all_genomes.gb # this is more than 200,000 genomes.\n",
    "#!domainator_db_download.py --db ncbi_complete_genome_proks --include_taxids 562 -o e_coli_complete_genomes.gb # 4,101 genomes\n",
    "#!domainator_db_download.py --db ncbi_representative_proks --include_taxids 562 -o e_coli_representative_genomes.gb # 2 genomes\n",
    "\n"
   ]
  },
  {
   "cell_type": "code",
   "execution_count": 9,
   "metadata": {},
   "outputs": [
    {
     "name": "stdout",
     "output_type": "stream",
     "text": [
      "/home/sean/scripts/python/domainator/src/domainator/domainate.py:423: UserWarning: Could not overlay location for Psu on KE137070.1, 476_-1_1. Skipping annotation.\n",
      "  warnings.warn(f\"Could not overlay location for {hit.name} on {contig.name}, {feature.qualifiers['cds_id'][0]}. Skipping annotation.\")\n",
      "/home/sean/scripts/python/domainator/src/domainator/domainate.py:423: UserWarning: Could not overlay location for Psu on KE136818.1, 116_-1_1. Skipping annotation.\n",
      "  warnings.warn(f\"Could not overlay location for {hit.name} on {contig.name}, {feature.qualifiers['cds_id'][0]}. Skipping annotation.\")\n",
      "/home/sean/scripts/python/domainator/src/domainator/domainate.py:423: UserWarning: Could not overlay location for Psu on ABDAEU010000090.1, 341_-1_1. Skipping annotation.\n",
      "  warnings.warn(f\"Could not overlay location for {hit.name} on {contig.name}, {feature.qualifiers['cds_id'][0]}. Skipping annotation.\")\n"
     ]
    }
   ],
   "source": [
    "# Find Psu domains in the genomes and extract 20 CDSs downstream of each Psu hit.\n",
    "! domain_search.py -i target_genomes.gb -r Psu.hmm -o Psu_hits.gb --no_annotations --cds_down 20 --cpu 0 --deduplicate --max_region_overlap 0.1 -e 1e-3\n"
   ]
  },
  {
   "cell_type": "code",
   "execution_count": 10,
   "metadata": {},
   "outputs": [
    {
     "name": "stdout",
     "output_type": "stream",
     "text": [
      "/home/sean/scripts/python/domainator/src/domainator/domainate.py:445: UserWarning: Could not overlay location for Psu on KE137070.1, 476_-1_1. Skipping annotation.\n",
      "  warnings.warn(f\"Could not overlay location for {hit.name} on {contig.name}, {feature.qualifiers['cds_id'][0]}. Skipping annotation.\")\n",
      "/home/sean/scripts/python/domainator/src/domainator/domainate.py:445: UserWarning: Could not overlay location for Psu on ABDAEU010000090.1, 341_-1_1. Skipping annotation.\n",
      "  warnings.warn(f\"Could not overlay location for {hit.name} on {contig.name}, {feature.qualifiers['cds_id'][0]}. Skipping annotation.\")\n",
      "/home/sean/scripts/python/domainator/src/domainator/domainate.py:445: UserWarning: Could not overlay location for Psu on KE136818.1, 116_-1_1. Skipping annotation.\n",
      "  warnings.warn(f\"Could not overlay location for {hit.name} on {contig.name}, {feature.qualifiers['cds_id'][0]}. Skipping annotation.\")\n",
      "/home/sean/scripts/python/domainator/src/domainator/domainate.py:445: UserWarning: Could not overlay location for Psu on JORE01000107.1, 4491_1_5035. Skipping annotation.\n",
      "  warnings.warn(f\"Could not overlay location for {hit.name} on {contig.name}, {feature.qualifiers['cds_id'][0]}. Skipping annotation.\")\n"
     ]
    }
   ],
   "source": [
    "# add pfam annotations to the Psu regions\n",
    "! domainate.py -i Psu_hits.gb -r ../resources/Pfam-A.hmm -o Psu_hits.pfam.gb --cpu 0 --max_overlap 0.6 -e 1e-3"
   ]
  },
  {
   "cell_type": "code",
   "execution_count": 11,
   "metadata": {},
   "outputs": [],
   "source": [
    "# extract regions downstream of Phage_integrase\n",
    "# we use --strand r to only extract contigs where the Phange_integrase is on the reverse strand (opposite strand of the Psu hit)\n",
    "# we use --keep_direction to keep the Phange_integrase on the forward strand\n",
    "! select_by_cds.py -i Psu_hits.pfam.gb -o P4_like.gb --domains Phage_integrase --cds_down 20 --max_region_overlap 0.1 --keep_direction --strand r "
   ]
  },
  {
   "cell_type": "code",
   "execution_count": 12,
   "metadata": {},
   "outputs": [
    {
     "name": "stdout",
     "output_type": "stream",
     "text": [
      "WARNING: All CDSs in contig AIGT01000004_71863:51481rc_3024:0 are composed of domains to be stripped. Skipping contig.\n"
     ]
    }
   ],
   "source": [
    "# Trim the Psu and Phage_integrase domains from the ends of the regions, so we're only looking at the putative defense genes.\n",
    "! trim_contigs.py -i P4_like.gb --domains Psu Phage_integrase -o P4_like.trimmed.gb"
   ]
  },
  {
   "cell_type": "code",
   "execution_count": 13,
   "metadata": {},
   "outputs": [],
   "source": [
    "# Extract all peptides from the region\n",
    "! extract_peptides.py -i P4_like.trimmed.gb -o prots.fasta --fasta_out"
   ]
  },
  {
   "cell_type": "code",
   "execution_count": 14,
   "metadata": {},
   "outputs": [
    {
     "name": "stdout",
     "output_type": "stream",
     "text": [
      "================================================================\n",
      "Program: CD-HIT, V4.8.1 (+OpenMP), May 15 2023, 22:49:31\n",
      "Command: cd-hit -n 2 -c 0.40 -M 0 -T 0 -d 0 -i prots.fasta -o\n",
      "         prots.cdhit40.fasta\n",
      "\n",
      "Started: Tue Feb 13 10:49:19 2024\n",
      "================================================================\n",
      "                            Output                              \n",
      "----------------------------------------------------------------\n",
      "total number of CPUs in the system is 20\n",
      "Actual number of CPUs to be used: 20\n",
      "\n",
      "total seq: 2960\n",
      "longest and shortest : 2643 and 11\n",
      "Total letters: 715520\n",
      "Sequences have been sorted\n",
      "\n",
      "Approximated minimal memory consumption:\n",
      "Sequence        : 1M\n",
      "Buffer          : 20 X 16M = 332M\n",
      "Table           : 2 X 0M = 0M\n",
      "Miscellaneous   : 0M\n",
      "Total           : 333M\n",
      "\n",
      "Table limit with the given memory limit:\n",
      "Max number of representatives: 547213\n",
      "Max number of word counting entries: 29456713\n",
      "\n",
      "# comparing sequences from          0  to        134\n",
      "---------- new table with       36 representatives\n",
      "# comparing sequences from        134  to        262\n",
      "99.3%---------- new table with        6 representatives\n",
      "# comparing sequences from        262  to        384\n",
      ".................---------- new table with       20 representatives\n",
      "# comparing sequences from        384  to        501\n",
      "....................---------- new table with       27 representatives\n",
      "# comparing sequences from        501  to        612\n",
      "99.3%---------- new table with       19 representatives\n",
      "# comparing sequences from        612  to        718\n",
      "..................---------- new table with       22 representatives\n",
      "# comparing sequences from        718  to        819\n",
      "99.1%---------- new table with       17 representatives\n",
      "# comparing sequences from        819  to        916\n",
      "99.6%---------- new table with       19 representatives\n",
      "# comparing sequences from        916  to       1008\n",
      "99.8%---------- new table with        2 representatives\n",
      "# comparing sequences from       1008  to       1096\n",
      "98.9%---------- new table with        0 representatives\n",
      "# comparing sequences from       1096  to       1180\n",
      "---------- new table with        2 representatives\n",
      "# comparing sequences from       1180  to       1260\n",
      "99.8%---------- new table with        0 representatives\n",
      "# comparing sequences from       1260  to       1337\n",
      "---------- new table with        0 representatives\n",
      "# comparing sequences from       1337  to       1410\n",
      "---------- new table with        1 representatives\n",
      "# comparing sequences from       1410  to       1480\n",
      "95.9%---------- new table with        0 representatives\n",
      "# comparing sequences from       1480  to       1547\n",
      "---------- new table with        3 representatives\n",
      "# comparing sequences from       1547  to       1611\n",
      "99.0%---------- new table with        0 representatives\n",
      "# comparing sequences from       1611  to       1672\n",
      "---------- new table with        0 representatives\n",
      "# comparing sequences from       1672  to       1730\n",
      "---------- new table with        0 representatives\n",
      "# comparing sequences from       1730  to       1785\n",
      "---------- new table with        0 representatives\n",
      "# comparing sequences from       1785  to       1838\n",
      "---------- new table with        8 representatives\n",
      "# comparing sequences from       1838  to       1889\n",
      "99.2%---------- new table with        7 representatives\n",
      "# comparing sequences from       1889  to       1937\n",
      "99.3%---------- new table with        2 representatives\n",
      "# comparing sequences from       1937  to       1983\n",
      "94.2%---------- new table with        0 representatives\n",
      "# comparing sequences from       1983  to       2960\n",
      "---------- new table with       41 representatives\n",
      "\n",
      "     2960  finished        232  clusters\n",
      "\n",
      "Approximated maximum memory consumption: 333M\n",
      "writing new database\n",
      "writing clustering information\n",
      "program completed !\n",
      "\n",
      "Total CPU time 10.52\n"
     ]
    }
   ],
   "source": [
    "# Cluster the peptides at 40% identity, to define orthogroups\n",
    "! cd-hit -n 2 -c 0.40 -M 0 -T 0 -d 0 -i prots.fasta -o prots.cdhit40.fasta # -s 0.7 "
   ]
  },
  {
   "cell_type": "code",
   "execution_count": 15,
   "metadata": {},
   "outputs": [],
   "source": [
    "# reannotate the regions with the orthogroup annotations\n",
    "! domainate.py -i P4_like.trimmed.gb -r prots.cdhit40.fasta -o P4_like.og.gb --cpu 0 --max_overlap 0.6 -e 1e-3"
   ]
  },
  {
   "cell_type": "code",
   "execution_count": 16,
   "metadata": {},
   "outputs": [],
   "source": [
    "# create tabular reports of the annotations\n",
    "! enum_report.py -i P4_like.og.gb -o annotations.tsv --cds_count --length --architecture_detailed --domains --domain_descriptions --qualifier CDS protein_id --databases Pfam-A --column_names \"Contig\" \"CDSs\" \"Length (bp)\" \"Domain architecture\" \"Unique Pfam domains\" \"Pfam domain descriptions\" \"Protein IDs\"\n",
    "! enum_report.py -i P4_like.og.gb -o orthogroup_annotations.tsv --architecture_detailed --databases \"prots.cdhit40\" --column_names \"Contig\" \"Orthogroup architecture\""
   ]
  },
  {
   "cell_type": "code",
   "execution_count": 17,
   "metadata": {},
   "outputs": [],
   "source": [
    "# Find jaccard similarity between contigs based on orthogroup contents\n",
    "! compare_contigs.py -i P4_like.og.gb --ai 0.0 --ji 1.0 --sparse P4_like_ji.hdf5 --databases prots.cdhit40\n"
   ]
  },
  {
   "cell_type": "code",
   "execution_count": 18,
   "metadata": {},
   "outputs": [
    {
     "name": "stdout",
     "output_type": "stream",
     "text": [
      "Matrix Report\n",
      "Total values: 828100\n",
      "Non-zero values: 114592\n",
      "Mean: 0.6458612911375757\n",
      "Median: 0.6666666666666666\n",
      "Min: 0.07142857142857142\n",
      "Max: 1.0\n",
      "        \n",
      "\n",
      "      ------------------------------------------------------------------------------------------------------\n",
      "      |                                           Matrix Values                                            |\n",
      "      ------------------------------------------------------------------------------------------------------\n",
      "\n",
      " 37558|                                                  o\n",
      " 35581|                                                  o\n",
      " 33604|                                                  o\n",
      " 31628|                                                  o\n",
      " 29651|                                                  o\n",
      " 27674|                                                  o\n",
      " 25698|                                                  o\n",
      " 23721|                                                  o\n",
      " 21744|                                  o               o\n",
      " 19768|                                  o               o\n",
      " 17791|                                  o               o\n",
      " 15814|                                  o               o\n",
      " 13837|                                  o               o\n",
      " 11861|                                  o               o\n",
      "  9884|    oo                            o               o\n",
      "  7907|    oo                            o               o\n",
      "  5931|    oo                            o      o        o\n",
      "  3954|   ooo                            o      o o      o\n",
      "  1977|   ooo o        o        o    o   o      o o      o\n",
      "     1| ooooo oo  o o  o oo oo  o  o oo  o o o  o oo     o\n",
      "       --------------------------------------------------\n",
      "       0 0 0 0 0 0 0 0 0 0 0 0 0 0 0 0 0 0 0 0 0 0 0 0 0 \n",
      "       . . . . . . . . . . . . . . . . . . . . . . . . . \n",
      "       0 1 1 1 2 2 2 3 3 4 4 4 5 5 5 6 6 7 7 7 8 8 8 9 9 \n",
      "       7 0 4 8 2 5 9 3 6 0 4 8 1 5 9 2 6 0 4 7 1 5 8 2 6 \n",
      "       1 8 5 2 0 7 4 1 8 5 2 0 7 4 1 8 5 2 0 7 4 1 8 5 2 \n",
      "       4 5 7 8 0 1 2 4 5 7 8 0 1 2 4 5 7 8 0 1 2 4 5 7 8 \n",
      "       2 7 1 5 0 4 8 2 7 1 5 0 4 8 2 7 1 5 0 4 8 2 7 1 5 \n",
      "\n"
     ]
    }
   ],
   "source": [
    "# Display a matrix report of the jaccard similarity matrix\n",
    "! matrix_report.py -i P4_like_ji.hdf5 -o /dev/stdout"
   ]
  },
  {
   "cell_type": "code",
   "execution_count": 19,
   "metadata": {},
   "outputs": [
    {
     "name": "stdout",
     "output_type": "stream",
     "text": [
      "/home/sean/miniconda3/envs/domainator/lib/python3.10/site-packages/pynndescent/utils.py:202: NumbaDeprecationWarning: The 'nopython' keyword argument was not supplied to the 'numba.jit' decorator. The implicit default value for this argument is currently False, but it will be changed to True in Numba 0.59.0. See https://numba.readthedocs.io/en/stable/reference/deprecation.html#deprecation-of-object-mode-fall-back-behaviour-when-using-jit for details.\n",
      "  @numba.jit(\n",
      "/home/sean/miniconda3/envs/domainator/lib/python3.10/site-packages/pynndescent/utils.py:302: NumbaDeprecationWarning: The 'nopython' keyword argument was not supplied to the 'numba.jit' decorator. The implicit default value for this argument is currently False, but it will be changed to True in Numba 0.59.0. See https://numba.readthedocs.io/en/stable/reference/deprecation.html#deprecation-of-object-mode-fall-back-behaviour-when-using-jit for details.\n",
      "  @numba.jit(\n"
     ]
    }
   ],
   "source": [
    "# Create a sequence similarity network as a cytoscape xgmml file, including the annotations.\n",
    "# After the SSN is built, it can be visualized with Cytoscape. Use the Layout->Prefuse Force Directed Layout to visualize the network.\n",
    "! build_ssn.py -i P4_like_ji.hdf5 --xgmml P4_like.xgmml  --lb 0.7 --metadata annotations.tsv --cluster --color_by \"Domain architecture\" --cluster_tsv clusters.tsv"
   ]
  },
  {
   "cell_type": "code",
   "execution_count": 20,
   "metadata": {},
   "outputs": [],
   "source": [
    "# The rest of this goes beyond what is depicted in the flow diagram at the top.\n",
    "\n",
    "# color the genbank file by orthogroup\n",
    "! color_genbank.py -i P4_like.og.gb -o P4_like.og.colored.gb --color_both"
   ]
  },
  {
   "cell_type": "code",
   "execution_count": 6,
   "metadata": {},
   "outputs": [],
   "source": [
    "# separate the contigs into separate files by ssn cluster\n",
    "clusters_table = pd.read_table(\"clusters.tsv\", names=[\"Name\", \"cluster\"])"
   ]
  },
  {
   "cell_type": "code",
   "execution_count": null,
   "metadata": {},
   "outputs": [],
   "source": [
    "for i in range(0, 12):\n",
    "    idx = i + 1\n",
    "    clusters_table[clusters_table[\"cluster\"] == idx][\"Name\"].to_csv(f\"cluster_{idx}.tsv\", sep=\"\\t\", index=False, header=False)\n",
    "    subprocess.run([\"select_by_contig.py\", \"-i\", \"P4_like.og.colored.gb\", \"-o\", f\"P4_like.og.cluster_{idx}.gb\", \"--contigs_file\", f\"cluster_{idx}.tsv\"])"
   ]
  },
  {
   "cell_type": "code",
   "execution_count": 13,
   "metadata": {},
   "outputs": [],
   "source": [
    "# report the Pfam domains, and the Psu domain hit information, including identity, score, and evalue\n",
    "! extract_peptides.py -i P4_like.gb --search_hits --fasta_out -o P4_like_Psu_seqs.fasta --keep_name\n",
    "! domainate.py -i P4_like_Psu_seqs.fasta -r ../resources/WP_000446153.fasta  -o P4_like_Psu_seqs.WP_000446153.gb --cpu 0 --max_domains 1 -e 10\n",
    "\n",
    "! enum_report.py -i P4_like_Psu_seqs.WP_000446153.gb -o P4_like.WP_000446153.tsv --score --identity"
   ]
  },
  {
   "cell_type": "code",
   "execution_count": 14,
   "metadata": {},
   "outputs": [],
   "source": [
    "# Supplementary table\n",
    "\n",
    "Psu_scores = pd.read_csv(\"P4_like.WP_000446153.tsv\", sep=\"\\t\")\n",
    "\n",
    "pfam_annotations = pd.read_table(\"annotations.tsv\", sep=\"\\t\")\n",
    "\n",
    "# join with clusters table\n",
    "#\"Contig\" \"CDSs\" \"Length (bp)\" \"Domain architecture\" \"Unique Pfam domains\" \"Pfam domain descriptions\" \"Protein IDs\"\n",
    "pfam_annotations = pd.merge(pfam_annotations, clusters_table, left_on=\"Contig\", right_on=\"Name\", how=\"left\")[[\"Contig\", \"CDSs\", \"Length (bp)\", \"Domain architecture\", \"Unique Pfam domains\", \"Pfam domain descriptions\", \"Protein IDs\", \"cluster\"]]\n",
    "pfam_annotations.rename(columns={\"cluster\": \"Cluster\"}, inplace=True)\n",
    "\n",
    "# for contig column delete everything after the last \"_\"\n",
    "pfam_annotations[\"Contig\"] = pfam_annotations[\"Contig\"].str.split(\"_\").str[:-1].str.join(\"_\")\n",
    "pfam_annotations = pd.merge(pfam_annotations, Psu_scores[[\"contig\",\"score\", \"identity\"]], left_on=\"Contig\", right_on=\"contig\", how=\"left\")\n",
    "pfam_annotations.rename(columns={\"score\": \"Psu score\", \"identity\": \"Psu identity\"}, inplace=True)\n",
    "\n",
    "orthogroup_annotations = pd.read_table(\"orthogroup_annotations.tsv\", sep=\"\\t\")\n",
    "orthogroup_annotations[\"Contig\"] = orthogroup_annotations[\"Contig\"].str.split(\"_\").str[:-1].str.join(\"_\")\n",
    "orthogroup_annotations = orthogroup_annotations[[\"Contig\", \"Orthogroup architecture\"]]\n",
    "pfam_annotations = pd.merge(pfam_annotations, orthogroup_annotations, on=\"Contig\", how=\"left\")\n",
    "\n",
    "# for contig column delete everything after the first \"_\"\n",
    "pfam_annotations[\"Contig\"] = pfam_annotations[\"Contig\"].str.split(\"_\").str[0]\n",
    "\n",
    "\n",
    "\n",
    "pfam_annotations.to_csv(\"pfam_annotations_table.tsv\", sep=\"\\t\", index=False)\n",
    "\n",
    "# count the number of clusters, and average the Psu scores for each cluster\n",
    "pfam_annotations[[\"Cluster\", \"Psu score\", \"Psu identity\"]].groupby(\"Cluster\").agg([\"count\", \"mean\"]).reset_index().to_csv(\"cluster_counts.tsv\", sep=\"\\t\", index=False)\n"
   ]
  },
  {
   "cell_type": "code",
   "execution_count": 24,
   "metadata": {},
   "outputs": [
    {
     "name": "stdout",
     "output_type": "stream",
     "text": [
      "rm: cannot remove 'example_contigs.gb': No such file or directory\n"
     ]
    }
   ],
   "source": [
    "# get an example contig from each cluster\n",
    "! rm example_contigs.gb\n",
    "with open('example_contigs.gb', 'a') as outfile_file:\n",
    "    for i in range(0, 12):\n",
    "        idx = i + 1\n",
    "        subprocess.run([\"select_by_contig.py\", \"-i\", f\"P4_like.og.cluster_{idx}.gb\", \"--first\", \"1\"], stdout=outfile_file)"
   ]
  },
  {
   "cell_type": "code",
   "execution_count": 25,
   "metadata": {},
   "outputs": [],
   "source": [
    "# orthogroup architecture tree\n",
    "\n",
    "orthogroup_annotations = pd.read_table(\"orthogroup_annotations.tsv\", sep=\"\\t\")\n",
    "# get one row for each orthogroup architecture\n",
    "orthogroup_annotations = orthogroup_annotations.groupby(\"Orthogroup architecture\").first().reset_index()"
   ]
  },
  {
   "cell_type": "code",
   "execution_count": 26,
   "metadata": {},
   "outputs": [
    {
     "name": "stdout",
     "output_type": "stream",
     "text": [
      "/home/sean/miniconda3/envs/domainator/lib/python3.10/site-packages/pynndescent/utils.py:202: NumbaDeprecationWarning: The 'nopython' keyword argument was not supplied to the 'numba.jit' decorator. The implicit default value for this argument is currently False, but it will be changed to True in Numba 0.59.0. See https://numba.readthedocs.io/en/stable/reference/deprecation.html#deprecation-of-object-mode-fall-back-behaviour-when-using-jit for details.\n",
      "  @numba.jit(\n",
      "/home/sean/miniconda3/envs/domainator/lib/python3.10/site-packages/pynndescent/utils.py:302: NumbaDeprecationWarning: The 'nopython' keyword argument was not supplied to the 'numba.jit' decorator. The implicit default value for this argument is currently False, but it will be changed to True in Numba 0.59.0. See https://numba.readthedocs.io/en/stable/reference/deprecation.html#deprecation-of-object-mode-fall-back-behaviour-when-using-jit for details.\n",
      "  @numba.jit(\n"
     ]
    }
   ],
   "source": [
    "# make a tree of representatives of each contig architecture\n",
    "orthogroup_annotations[\"Contig\"].to_csv(\"orthogroup_representative_contigs.tsv\", sep=\"\\t\", index=False, header=False)\n",
    "subprocess.run([\"select_by_contig.py\", \"-i\", \"P4_like.og.gb\", \"-o\", \"P4_like.og.representatives.gb\", \"--contigs_file\", \"orthogroup_representative_contigs.tsv\"])\n",
    "! compare_contigs.py -i P4_like.og.representatives.gb --ai 0.0 --ji 1.0 --sparse P4_like_og_ji.hdf5 --databases prots.cdhit40\n",
    "! transform_matrix.py -i P4_like_og_ji.hdf5 --mode \"score_dist\" --dense P4_like_og_ji_dist.hdf5 --dense_text P4_like_og_ji_dist.tsv\n",
    "! build_tree.py -i P4_like_og_ji_dist.hdf5 --newick P4_like_og_ji_dist.newick --quiet"
   ]
  },
  {
   "cell_type": "code",
   "execution_count": 322,
   "metadata": {},
   "outputs": [],
   "source": []
  },
  {
   "cell_type": "code",
   "execution_count": 27,
   "metadata": {},
   "outputs": [],
   "source": [
    "# collect metadata for the tree\n",
    "orthogroup_representative_tree_annotations = pd.merge(orthogroup_annotations, clusters_table, left_on=\"Contig\", right_on=\"Name\", how=\"left\")\n",
    "# replace \":\" with \"_\" in \"Contig\"\n",
    "orthogroup_representative_tree_annotations[\"Contig\"] = orthogroup_representative_tree_annotations[\"Contig\"].str.replace(\":\", \"_\")\n",
    "# set the index to \"Contig\"\n",
    "orthogroup_representative_tree_annotations.set_index(\"Contig\", inplace=True, drop=True)\n",
    "orthogroup_representative_tree_annotations.to_csv(\"orthogroup_representative_tree_annotations.tsv\", sep=\"\\t\", index=True)"
   ]
  },
  {
   "cell_type": "code",
   "execution_count": 28,
   "metadata": {},
   "outputs": [
    {
     "data": {
      "text/plain": [
       "''"
      ]
     },
     "execution_count": 28,
     "metadata": {},
     "output_type": "execute_result"
    }
   ],
   "source": [
    "# render the tree\n",
    "\n",
    "LINE_THICKNESS = 5\n",
    "\n",
    "   \n",
    "def mylayout(node, metadata):\n",
    "    node.img_style[\"hz_line_width\"] = LINE_THICKNESS # Change the horizotal lines stroke size\n",
    "    node.img_style[\"vt_line_width\"] = LINE_THICKNESS # Change the vertical lines stroke size\n",
    "    if node.is_leaf():\n",
    "        node.name = node.name.strip(\"'\")\n",
    "        row = metadata.loc[node.name]\n",
    "        node.name = row[\"Orthogroup architecture\"]\n",
    "        fgcolor=\"black\"\n",
    "        N=AttrFace(\"name\",fsize=30, fgcolor=fgcolor)\n",
    "\n",
    "        faces.add_face_to_node(N, node, 0, position=\"aligned\")\n",
    "        faces.add_face_to_node(TextFace(\" \" + str(row[\"cluster\"]) + \"    \", fsize=30), node, column=1, aligned=False)\n",
    "\n",
    "\n",
    "t = ete3.Tree(\"P4_like_og_ji_dist.newick\")\n",
    "\n",
    "ns = NodeStyle()\n",
    "ts = TreeStyle()\n",
    "ts.show_leaf_name = False\n",
    "ts.layout_fn = lambda x: mylayout(x, orthogroup_representative_tree_annotations)\n",
    "ts.mode = \"c\"\n",
    "#ts.force_topology = True\n",
    "#ts.rotation = -95\n",
    "# ts.branch_vertical_margin = 0\n",
    "\n",
    "ns[\"size\"] = 0\n",
    "\n",
    "for n in t.traverse():\n",
    "    n.set_style(ns)\n",
    "\n",
    "#t.render(\"%%inline\", tree_style=ts)\n",
    "t.render(\"clusters_tree.jpg\", tree_style=ts)\n",
    "# suppress output\n",
    ";"
   ]
  },
  {
   "cell_type": "code",
   "execution_count": 2,
   "metadata": {},
   "outputs": [
    {
     "name": "stdout",
     "output_type": "stream",
     "text": [
      "\n",
      "    <html>\n",
      "    <head>\n",
      "        <title>Domainator Contigs Plot</title>\n",
      "        <script src=\"https://d3js.org/d3.v7.min.js\"></script>\n",
      "        <style>\n",
      "            .tooltip {\n",
      "                position: absolute;\n",
      "                text-align: left;\n",
      "                padding: 8px;\n",
      "                font: 12px sans-serif;\n",
      "                background: lightblue;\n",
      "                border: 0px;\n",
      "                border-radius: 8px;\n",
      "                pointer-events: none;\n",
      "                opacity: 0;\n",
      "            }\n",
      "            .contig-label {\n",
      "                font: 32px sans-serif;\n",
      "            }\n",
      "            .feature-label {\n",
      "                font: 26px sans-serif;\n",
      "            }\n",
      "        </style>\n",
      "    </head>\n",
      "    <body>\n",
      "        <div id=\"details\" style=\"padding: 5px; border: 1px solid #ccc; margin-top: 5; width: 1200; height: 75; overflow: scroll;\"></div>\n",
      "        <div id=\"tooltip\" class=\"tooltip\"></div>\n",
      "        <div>\n",
      "        <svg width=\"1200\" height=\"600\" style=\"padding: 5px; border: 1px solid #ccc; margin-top: 20px; overflow: scroll;\"></svg>\n",
      "        </div>\n",
      "        <script>\n",
      "            var svg = d3.select(\"svg\");\n",
      "            var detailsDiv = d3.select(\"#details\");\n",
      "            var tooltip = d3.select(\"#tooltip\");\n",
      "    \n",
      "            var zoomContainer = svg.append(\"g\");\n",
      "\n",
      "            var zoom = d3.zoom()\n",
      "                .on(\"zoom\", function(event) {\n",
      "                    zoomContainer.attr(\"transform\", event.transform);\n",
      "                    \n",
      "                });\n",
      "            var initialTransform = d3.zoomIdentity.translate(0, 0).scale(0.2684563758389262);\n",
      "            svg.call(zoom)\n",
      "                .call(zoom.transform, initialTransform); // Apply the initial zoom transform correctly\n",
      "\n",
      "            \n",
      "                    \n",
      "            var contigs = [{\"name\": \"pDONR201_1\", \"length\": 4470, \"features\": [{\"name\": \"pDONR201_1\", \"start\": 1, \"end\": 106, \"parts\": [{\"start\": 1, \"end\": 106, \"strand\": \"+\"}], \"type\": \"CDS\", \"color\": \"#CCCCCC\", \"mouseover\": \"<b style=\\\"color:#AA2222;\\\">CDS</b><br><b>start</b>: 1<br><b>end</b>: 106<br><b>strand</b>: +<br><b>gene_id</b>: pDONR201_1<br><b>gene_type</b>: bacteria<br><b>partial</b>: 10<br><b>gc</b>: 49<br><b>length</b>: 105<br><b>source</b>: GeneMark.hmm2<br><b>score</b>: 5.09<br><b>phase</b>: 0<br><b>name</b>: pDONR201_1\", \"z_order\": 0}, {\"name\": \"pDONR201_2\", \"start\": 958, \"end\": 1264, \"parts\": [{\"start\": 958, \"end\": 1264, \"strand\": \"-\"}], \"type\": \"CDS\", \"color\": \"#CCCCCC\", \"mouseover\": \"<b style=\\\"color:#AA2222;\\\">CDS</b><br><b>start</b>: 958<br><b>end</b>: 1264<br><b>strand</b>: -<br><b>gene_id</b>: pDONR201_2<br><b>gene_type</b>: bacteria<br><b>complete</b>: true<br><b>gc</b>: 50<br><b>length</b>: 306<br><b>source</b>: GeneMark.hmm2<br><b>score</b>: 20.71<br><b>phase</b>: 0<br><b>name</b>: pDONR201_2\", \"z_order\": 0}, {\"name\": \"pDONR201_3\", \"start\": 1265, \"end\": 1391, \"parts\": [{\"start\": 1265, \"end\": 1391, \"strand\": \"-\"}], \"type\": \"CDS\", \"color\": \"#CCCCCC\", \"mouseover\": \"<b style=\\\"color:#AA2222;\\\">CDS</b><br><b>start</b>: 1265<br><b>end</b>: 1391<br><b>strand</b>: -<br><b>gene_id</b>: pDONR201_3<br><b>gene_type</b>: bacteria<br><b>complete</b>: true<br><b>gc</b>: 54<br><b>length</b>: 126<br><b>source</b>: GeneMark.hmm2<br><b>score</b>: 5.68<br><b>phase</b>: 0<br><b>name</b>: pDONR201_3\", \"z_order\": 0}, {\"name\": \"pDONR201_4\", \"start\": 1605, \"end\": 2265, \"parts\": [{\"start\": 1605, \"end\": 2265, \"strand\": \"-\"}], \"type\": \"CDS\", \"color\": \"#CCCCCC\", \"mouseover\": \"<b style=\\\"color:#AA2222;\\\">CDS</b><br><b>start</b>: 1605<br><b>end</b>: 2265<br><b>strand</b>: -<br><b>gene_id</b>: pDONR201_4<br><b>gene_type</b>: bacteria<br><b>complete</b>: true<br><b>gc</b>: 45<br><b>length</b>: 660<br><b>source</b>: GeneMark.hmm2<br><b>score</b>: 41.74<br><b>phase</b>: 0<br><b>name</b>: pDONR201_4\", \"z_order\": 0}, {\"name\": \"pDONR201_5\", \"start\": 2915, \"end\": 3677, \"parts\": [{\"start\": 2915, \"end\": 3677, \"strand\": \"+\"}], \"type\": \"CDS\", \"color\": \"#CCCCCC\", \"mouseover\": \"<b style=\\\"color:#AA2222;\\\">CDS</b><br><b>start</b>: 2915<br><b>end</b>: 3677<br><b>strand</b>: +<br><b>gene_id</b>: pDONR201_5<br><b>gene_type</b>: bacteria<br><b>complete</b>: true<br><b>gc</b>: 43<br><b>length</b>: 762<br><b>source</b>: GeneMark.hmm2<br><b>score</b>: 51.92<br><b>phase</b>: 0<br><b>name</b>: pDONR201_5\", \"z_order\": 0}, {\"name\": \"pDONR201_6\", \"start\": 4377, \"end\": 4470, \"parts\": [{\"start\": 4377, \"end\": 4470, \"strand\": \"+\"}], \"type\": \"CDS\", \"color\": \"#CCCCCC\", \"mouseover\": \"<b style=\\\"color:#AA2222;\\\">CDS</b><br><b>start</b>: 4377<br><b>end</b>: 4470<br><b>strand</b>: +<br><b>gene_id</b>: pDONR201_6<br><b>gene_type</b>: bacteria<br><b>partial</b>: 01<br><b>gc</b>: 56<br><b>length</b>: 93<br><b>source</b>: GeneMark.hmm2<br><b>score</b>: 2.26<br><b>phase</b>: 0<br><b>name</b>: pDONR201_6\", \"z_order\": 0}], \"offset\": 97.0, \"mouseover\": \"<b style=\\\"color:#AA2222;\\\">Contig</b><br><b>Name</b>: pDONR201_1<br><b>Description</b>: pDONR201_1<br><b>Length</b>: 4470<br><b>data_file_division</b>: UNK<br><b>date</b>: 01-JAN-1980<br><b>accessions</b>: [&#x27;pDONR201_1&#x27;]<br><b>keywords</b>: [&#x27;&#x27;]<br><b>source</b>: <br><b>organism</b>: .<br><b>taxonomy</b>: []<br><b>molecule_type</b>: DNA\"}, {\"name\": \"pDONR201_2\", \"length\": 4470, \"features\": [{\"name\": \"pDONR201_1\", \"start\": 1, \"end\": 106, \"parts\": [{\"start\": 1, \"end\": 106, \"strand\": \"+\"}], \"type\": \"CDS\", \"color\": \"#CCCCCC\", \"mouseover\": \"<b style=\\\"color:#AA2222;\\\">CDS</b><br><b>start</b>: 1<br><b>end</b>: 106<br><b>strand</b>: +<br><b>gene_id</b>: pDONR201_1<br><b>gene_type</b>: bacteria<br><b>partial</b>: 10<br><b>gc</b>: 49<br><b>length</b>: 105<br><b>source</b>: GeneMark.hmm2<br><b>score</b>: 5.09<br><b>phase</b>: 0<br><b>name</b>: pDONR201_1\", \"z_order\": 0}, {\"name\": \"pDONR201_2\", \"start\": 958, \"end\": 1264, \"parts\": [{\"start\": 958, \"end\": 1264, \"strand\": \"-\"}], \"type\": \"CDS\", \"color\": \"#CCCCCC\", \"mouseover\": \"<b style=\\\"color:#AA2222;\\\">CDS</b><br><b>start</b>: 958<br><b>end</b>: 1264<br><b>strand</b>: -<br><b>gene_id</b>: pDONR201_2<br><b>gene_type</b>: bacteria<br><b>complete</b>: true<br><b>gc</b>: 50<br><b>length</b>: 306<br><b>source</b>: GeneMark.hmm2<br><b>score</b>: 20.71<br><b>phase</b>: 0<br><b>name</b>: pDONR201_2\", \"z_order\": 0}, {\"name\": \"pDONR201_3\", \"start\": 1265, \"end\": 1391, \"parts\": [{\"start\": 1265, \"end\": 1391, \"strand\": \"-\"}], \"type\": \"CDS\", \"color\": \"#CCCCCC\", \"mouseover\": \"<b style=\\\"color:#AA2222;\\\">CDS</b><br><b>start</b>: 1265<br><b>end</b>: 1391<br><b>strand</b>: -<br><b>gene_id</b>: pDONR201_3<br><b>gene_type</b>: bacteria<br><b>complete</b>: true<br><b>gc</b>: 54<br><b>length</b>: 126<br><b>source</b>: GeneMark.hmm2<br><b>score</b>: 5.68<br><b>phase</b>: 0<br><b>name</b>: pDONR201_3\", \"z_order\": 0}, {\"name\": \"pDONR201_4\", \"start\": 1605, \"end\": 2265, \"parts\": [{\"start\": 1605, \"end\": 2265, \"strand\": \"-\"}], \"type\": \"CDS\", \"color\": \"#CCCCCC\", \"mouseover\": \"<b style=\\\"color:#AA2222;\\\">CDS</b><br><b>start</b>: 1605<br><b>end</b>: 2265<br><b>strand</b>: -<br><b>gene_id</b>: pDONR201_4<br><b>gene_type</b>: bacteria<br><b>complete</b>: true<br><b>gc</b>: 45<br><b>length</b>: 660<br><b>source</b>: GeneMark.hmm2<br><b>score</b>: 41.74<br><b>phase</b>: 0<br><b>name</b>: pDONR201_4\", \"z_order\": 0}, {\"name\": \"pDONR201_5\", \"start\": 2915, \"end\": 3677, \"parts\": [{\"start\": 2915, \"end\": 3677, \"strand\": \"+\"}], \"type\": \"CDS\", \"color\": \"#CCCCCC\", \"mouseover\": \"<b style=\\\"color:#AA2222;\\\">CDS</b><br><b>start</b>: 2915<br><b>end</b>: 3677<br><b>strand</b>: +<br><b>gene_id</b>: pDONR201_5<br><b>gene_type</b>: bacteria<br><b>complete</b>: true<br><b>gc</b>: 43<br><b>length</b>: 762<br><b>source</b>: GeneMark.hmm2<br><b>score</b>: 51.92<br><b>phase</b>: 0<br><b>name</b>: pDONR201_5\", \"z_order\": 0}, {\"name\": \"pDONR201_6\", \"start\": 4377, \"end\": 4470, \"parts\": [{\"start\": 4377, \"end\": 4470, \"strand\": \"+\"}], \"type\": \"CDS\", \"color\": \"#CCCCCC\", \"mouseover\": \"<b style=\\\"color:#AA2222;\\\">CDS</b><br><b>start</b>: 4377<br><b>end</b>: 4470<br><b>strand</b>: +<br><b>gene_id</b>: pDONR201_6<br><b>gene_type</b>: bacteria<br><b>partial</b>: 01<br><b>gc</b>: 56<br><b>length</b>: 93<br><b>source</b>: GeneMark.hmm2<br><b>score</b>: 2.26<br><b>phase</b>: 0<br><b>name</b>: pDONR201_6\", \"z_order\": 0}], \"offset\": 194.0, \"mouseover\": \"<b style=\\\"color:#AA2222;\\\">Contig</b><br><b>Name</b>: pDONR201_2<br><b>Description</b>: pDONR201_2<br><b>Length</b>: 4470<br><b>data_file_division</b>: UNK<br><b>date</b>: 01-JAN-1980<br><b>accessions</b>: [&#x27;pDONR201_2&#x27;]<br><b>keywords</b>: [&#x27;&#x27;]<br><b>source</b>: <br><b>organism</b>: .<br><b>taxonomy</b>: []<br><b>molecule_type</b>: DNA\"}, {\"name\": \"pDONR201_3\", \"length\": 4470, \"features\": [{\"name\": \"pDONR201_1\", \"start\": 1, \"end\": 106, \"parts\": [{\"start\": 1, \"end\": 106, \"strand\": \"+\"}], \"type\": \"CDS\", \"color\": \"#CCCCCC\", \"mouseover\": \"<b style=\\\"color:#AA2222;\\\">CDS</b><br><b>start</b>: 1<br><b>end</b>: 106<br><b>strand</b>: +<br><b>gene_id</b>: pDONR201_1<br><b>gene_type</b>: bacteria<br><b>partial</b>: 10<br><b>gc</b>: 49<br><b>length</b>: 105<br><b>source</b>: GeneMark.hmm2<br><b>score</b>: 5.09<br><b>phase</b>: 0<br><b>name</b>: pDONR201_1\", \"z_order\": 0}, {\"name\": \"pDONR201_2\", \"start\": 958, \"end\": 1264, \"parts\": [{\"start\": 958, \"end\": 1264, \"strand\": \"-\"}], \"type\": \"CDS\", \"color\": \"#CCCCCC\", \"mouseover\": \"<b style=\\\"color:#AA2222;\\\">CDS</b><br><b>start</b>: 958<br><b>end</b>: 1264<br><b>strand</b>: -<br><b>gene_id</b>: pDONR201_2<br><b>gene_type</b>: bacteria<br><b>complete</b>: true<br><b>gc</b>: 50<br><b>length</b>: 306<br><b>source</b>: GeneMark.hmm2<br><b>score</b>: 20.71<br><b>phase</b>: 0<br><b>name</b>: pDONR201_2\", \"z_order\": 0}, {\"name\": \"pDONR201_3\", \"start\": 1265, \"end\": 1391, \"parts\": [{\"start\": 1265, \"end\": 1391, \"strand\": \"-\"}], \"type\": \"CDS\", \"color\": \"#CCCCCC\", \"mouseover\": \"<b style=\\\"color:#AA2222;\\\">CDS</b><br><b>start</b>: 1265<br><b>end</b>: 1391<br><b>strand</b>: -<br><b>gene_id</b>: pDONR201_3<br><b>gene_type</b>: bacteria<br><b>complete</b>: true<br><b>gc</b>: 54<br><b>length</b>: 126<br><b>source</b>: GeneMark.hmm2<br><b>score</b>: 5.68<br><b>phase</b>: 0<br><b>name</b>: pDONR201_3\", \"z_order\": 0}, {\"name\": \"pDONR201_4\", \"start\": 1605, \"end\": 2265, \"parts\": [{\"start\": 1605, \"end\": 2265, \"strand\": \"-\"}], \"type\": \"CDS\", \"color\": \"#CCCCCC\", \"mouseover\": \"<b style=\\\"color:#AA2222;\\\">CDS</b><br><b>start</b>: 1605<br><b>end</b>: 2265<br><b>strand</b>: -<br><b>gene_id</b>: pDONR201_4<br><b>gene_type</b>: bacteria<br><b>complete</b>: true<br><b>gc</b>: 45<br><b>length</b>: 660<br><b>source</b>: GeneMark.hmm2<br><b>score</b>: 41.74<br><b>phase</b>: 0<br><b>name</b>: pDONR201_4\", \"z_order\": 0}, {\"name\": \"pDONR201_5\", \"start\": 2915, \"end\": 3677, \"parts\": [{\"start\": 2915, \"end\": 3677, \"strand\": \"+\"}], \"type\": \"CDS\", \"color\": \"#CCCCCC\", \"mouseover\": \"<b style=\\\"color:#AA2222;\\\">CDS</b><br><b>start</b>: 2915<br><b>end</b>: 3677<br><b>strand</b>: +<br><b>gene_id</b>: pDONR201_5<br><b>gene_type</b>: bacteria<br><b>complete</b>: true<br><b>gc</b>: 43<br><b>length</b>: 762<br><b>source</b>: GeneMark.hmm2<br><b>score</b>: 51.92<br><b>phase</b>: 0<br><b>name</b>: pDONR201_5\", \"z_order\": 0}, {\"name\": \"pDONR201_6\", \"start\": 4377, \"end\": 4470, \"parts\": [{\"start\": 4377, \"end\": 4470, \"strand\": \"+\"}], \"type\": \"CDS\", \"color\": \"#CCCCCC\", \"mouseover\": \"<b style=\\\"color:#AA2222;\\\">CDS</b><br><b>start</b>: 4377<br><b>end</b>: 4470<br><b>strand</b>: +<br><b>gene_id</b>: pDONR201_6<br><b>gene_type</b>: bacteria<br><b>partial</b>: 01<br><b>gc</b>: 56<br><b>length</b>: 93<br><b>source</b>: GeneMark.hmm2<br><b>score</b>: 2.26<br><b>phase</b>: 0<br><b>name</b>: pDONR201_6\", \"z_order\": 0}], \"offset\": 291.0, \"mouseover\": \"<b style=\\\"color:#AA2222;\\\">Contig</b><br><b>Name</b>: pDONR201_3<br><b>Description</b>: pDONR201_3<br><b>Length</b>: 4470<br><b>data_file_division</b>: UNK<br><b>date</b>: 01-JAN-1980<br><b>accessions</b>: [&#x27;pDONR201_3&#x27;]<br><b>keywords</b>: [&#x27;&#x27;]<br><b>source</b>: <br><b>organism</b>: .<br><b>taxonomy</b>: []<br><b>molecule_type</b>: DNA\"}, {\"name\": \"pDONR201_4\", \"length\": 4470, \"features\": [{\"name\": \"pDONR201_1\", \"start\": 1, \"end\": 106, \"parts\": [{\"start\": 1, \"end\": 106, \"strand\": \"+\"}], \"type\": \"CDS\", \"color\": \"#CCCCCC\", \"mouseover\": \"<b style=\\\"color:#AA2222;\\\">CDS</b><br><b>start</b>: 1<br><b>end</b>: 106<br><b>strand</b>: +<br><b>gene_id</b>: pDONR201_1<br><b>gene_type</b>: bacteria<br><b>partial</b>: 10<br><b>gc</b>: 49<br><b>length</b>: 105<br><b>source</b>: GeneMark.hmm2<br><b>score</b>: 5.09<br><b>phase</b>: 0<br><b>name</b>: pDONR201_1\", \"z_order\": 0}, {\"name\": \"pDONR201_2\", \"start\": 958, \"end\": 1264, \"parts\": [{\"start\": 958, \"end\": 1264, \"strand\": \"-\"}], \"type\": \"CDS\", \"color\": \"#CCCCCC\", \"mouseover\": \"<b style=\\\"color:#AA2222;\\\">CDS</b><br><b>start</b>: 958<br><b>end</b>: 1264<br><b>strand</b>: -<br><b>gene_id</b>: pDONR201_2<br><b>gene_type</b>: bacteria<br><b>complete</b>: true<br><b>gc</b>: 50<br><b>length</b>: 306<br><b>source</b>: GeneMark.hmm2<br><b>score</b>: 20.71<br><b>phase</b>: 0<br><b>name</b>: pDONR201_2\", \"z_order\": 0}, {\"name\": \"pDONR201_3\", \"start\": 1265, \"end\": 1391, \"parts\": [{\"start\": 1265, \"end\": 1391, \"strand\": \"-\"}], \"type\": \"CDS\", \"color\": \"#CCCCCC\", \"mouseover\": \"<b style=\\\"color:#AA2222;\\\">CDS</b><br><b>start</b>: 1265<br><b>end</b>: 1391<br><b>strand</b>: -<br><b>gene_id</b>: pDONR201_3<br><b>gene_type</b>: bacteria<br><b>complete</b>: true<br><b>gc</b>: 54<br><b>length</b>: 126<br><b>source</b>: GeneMark.hmm2<br><b>score</b>: 5.68<br><b>phase</b>: 0<br><b>name</b>: pDONR201_3\", \"z_order\": 0}, {\"name\": \"pDONR201_4\", \"start\": 1605, \"end\": 2265, \"parts\": [{\"start\": 1605, \"end\": 2265, \"strand\": \"-\"}], \"type\": \"CDS\", \"color\": \"#CCCCCC\", \"mouseover\": \"<b style=\\\"color:#AA2222;\\\">CDS</b><br><b>start</b>: 1605<br><b>end</b>: 2265<br><b>strand</b>: -<br><b>gene_id</b>: pDONR201_4<br><b>gene_type</b>: bacteria<br><b>complete</b>: true<br><b>gc</b>: 45<br><b>length</b>: 660<br><b>source</b>: GeneMark.hmm2<br><b>score</b>: 41.74<br><b>phase</b>: 0<br><b>name</b>: pDONR201_4\", \"z_order\": 0}, {\"name\": \"pDONR201_5\", \"start\": 2915, \"end\": 3677, \"parts\": [{\"start\": 2915, \"end\": 3677, \"strand\": \"+\"}], \"type\": \"CDS\", \"color\": \"#CCCCCC\", \"mouseover\": \"<b style=\\\"color:#AA2222;\\\">CDS</b><br><b>start</b>: 2915<br><b>end</b>: 3677<br><b>strand</b>: +<br><b>gene_id</b>: pDONR201_5<br><b>gene_type</b>: bacteria<br><b>complete</b>: true<br><b>gc</b>: 43<br><b>length</b>: 762<br><b>source</b>: GeneMark.hmm2<br><b>score</b>: 51.92<br><b>phase</b>: 0<br><b>name</b>: pDONR201_5\", \"z_order\": 0}, {\"name\": \"pDONR201_6\", \"start\": 4377, \"end\": 4470, \"parts\": [{\"start\": 4377, \"end\": 4470, \"strand\": \"+\"}], \"type\": \"CDS\", \"color\": \"#CCCCCC\", \"mouseover\": \"<b style=\\\"color:#AA2222;\\\">CDS</b><br><b>start</b>: 4377<br><b>end</b>: 4470<br><b>strand</b>: +<br><b>gene_id</b>: pDONR201_6<br><b>gene_type</b>: bacteria<br><b>partial</b>: 01<br><b>gc</b>: 56<br><b>length</b>: 93<br><b>source</b>: GeneMark.hmm2<br><b>score</b>: 2.26<br><b>phase</b>: 0<br><b>name</b>: pDONR201_6\", \"z_order\": 0}], \"offset\": 388.0, \"mouseover\": \"<b style=\\\"color:#AA2222;\\\">Contig</b><br><b>Name</b>: pDONR201_4<br><b>Description</b>: pDONR201_4<br><b>Length</b>: 4470<br><b>data_file_division</b>: UNK<br><b>date</b>: 01-JAN-1980<br><b>accessions</b>: [&#x27;pDONR201_4&#x27;]<br><b>keywords</b>: [&#x27;&#x27;]<br><b>source</b>: <br><b>organism</b>: .<br><b>taxonomy</b>: []<br><b>molecule_type</b>: DNA\"}];\n",
      "            var contigGroup = zoomContainer.selectAll(\".contig\")\n",
      "                .data(contigs)\n",
      "                .enter()\n",
      "                .append(\"g\")\n",
      "                .attr(\"class\", \"contig\")\n",
      "                .attr(\"transform\", function(d, i) { return \"translate(0,\" + d.offset + \")\"; });\n",
      "            \n",
      "    \n",
      "            contigGroup.append(\"line\")\n",
      "                .attr(\"x1\", 0)\n",
      "                .attr(\"x2\", function(d) { return d.length; })\n",
      "                .attr(\"stroke\", \"black\")\n",
      "                .attr(\"stroke-width\", 20)\n",
      "                .on(\"click\", function(event, d) {\n",
      "                        detailsDiv.html(d.mouseover);\n",
      "                })            \n",
      "                .on(\"mouseover\", function(event, d) {\n",
      "                    tooltip.html(d.mouseover)\n",
      "                        .style(\"opacity\", 1)\n",
      "                        .style(\"left\", (event.pageX + 5) + \"px\")\n",
      "                        .style(\"top\", (event.pageY + 5) + \"px\");\n",
      "\n",
      "                })\n",
      "                .on(\"mousemove\", function(event, d) {\n",
      "                    tooltip.style(\"left\", (event.pageX + 5) + \"px\")\n",
      "                    .style(\"top\", (event.pageY + 5) + \"px\");\n",
      "                })\n",
      "                .on(\"mouseout\", function() {\n",
      "                    tooltip.style(\"opacity\", 0);\n",
      "                });\n",
      "\n",
      "    \n",
      "            var featureGroup = contigGroup.selectAll(\".feature\")\n",
      "                .data(function(d) { return d.features; })\n",
      "                .enter()\n",
      "                .append(\"g\")\n",
      "                .attr(\"class\", \"feature\")\n",
      "                .attr(\"transform\", function(d) { return \"translate(\" + d.start + \",\" + (-50 * d.z_order) + \")\"; });\n",
      "    \n",
      "            featureGroup.each(function(featureData) {\n",
      "                d3.select(this).selectAll(\".part\")\n",
      "                    .data(featureData.parts)\n",
      "                    .enter().append(\"path\")\n",
      "                    .attr(\"d\", function(d) {\n",
      "                        var length = d.end - d.start;\n",
      "                        var arrow_width = 20;  // Width of the arrow part\n",
      "                        var arrow_height = 50;  // Height of the arrow part\n",
      "                        if (d.strand === \"-\") {\n",
      "                            return `M${arrow_width},0 L${length},0 L${length},${-arrow_height} L${arrow_width},${-arrow_height} L0,${-arrow_height/2} Z`;\n",
      "                        } else {\n",
      "                            return `M0,0 L${length - arrow_width},0 L${length},${-arrow_height/2} L${length - arrow_width},${-arrow_height} L0,${-arrow_height} Z`;\n",
      "                        }\n",
      "                    })\n",
      "                    .attr(\"fill\", d => featureData.color)\n",
      "                    .attr(\"stroke\", \"black\")\n",
      "                    .on(\"click\", function(event, d) {\n",
      "                        detailsDiv.html(featureData.mouseover);\n",
      "                    })            \n",
      "                    .on(\"mouseover\", function(event, d) {\n",
      "                        tooltip.html(featureData.mouseover)\n",
      "                            .style(\"opacity\", 1)\n",
      "                            .style(\"left\", (event.pageX + 5) + \"px\")\n",
      "                            .style(\"top\", (event.pageY + 5) + \"px\");\n",
      "\n",
      "                    })\n",
      "                    .on(\"mousemove\", function(event, d) {\n",
      "                        tooltip.style(\"left\", (event.pageX + 5) + \"px\")\n",
      "                        .style(\"top\", (event.pageY + 5) + \"px\");\n",
      "                    })\n",
      "                    .on(\"mouseout\", function() {\n",
      "                        tooltip.style(\"opacity\", 0);\n",
      "                    });\n",
      "            });\n",
      "    \n",
      "            featureGroup.append(\"text\")\n",
      "                .attr(\"class\", \"feature-label\")\n",
      "                .attr(\"x\", 20)\n",
      "                .attr(\"y\", -7)\n",
      "                .attr(\"text-anchor\", \"start\")\n",
      "                .text(d => d.name)\n",
      "                .on(\"click\", function(event, d) {\n",
      "                    detailsDiv.html(d.mouseover);\n",
      "                })            \n",
      "                .on(\"mouseover\", function(event, d) {\n",
      "                    tooltip.html(d.mouseover)\n",
      "                        .style(\"opacity\", 1)\n",
      "                        .style(\"left\", (event.pageX + 5) + \"px\")\n",
      "                        .style(\"top\", (event.pageY + 5) + \"px\");\n",
      "                })\n",
      "                .on(\"mousemove\", function(event, d) {\n",
      "                    tooltip.style(\"left\", (event.pageX + 5) + \"px\")\n",
      "                    .style(\"top\", (event.pageY + 5) + \"px\");\n",
      "                })\n",
      "                .on(\"mouseout\", function() {\n",
      "                    tooltip.style(\"opacity\", 0);\n",
      "                });\n",
      "\n",
      "            contigGroup.append(\"text\")\n",
      "                .attr(\"class\", \"contig-label\")\n",
      "                .attr(\"y\", 32 + 10.0)\n",
      "                .attr(\"x\", 0)\n",
      "                .attr(\"text-anchor\", \"top\")\n",
      "                .text(function(d) { return d.name; })\n",
      "                .on(\"click\", function(event, d) {\n",
      "                    detailsDiv.html(d.mouseover);\n",
      "                })\n",
      "                .on(\"mouseover\", function(event, d) {\n",
      "                    tooltip.html(d.mouseover)\n",
      "                        .style(\"opacity\", 1)\n",
      "                        .style(\"left\", (event.pageX + 5) + \"px\")\n",
      "                        .style(\"top\", (event.pageY + 5) + \"px\");\n",
      "                })\n",
      "                .on(\"mousemove\", function(event) {\n",
      "                    tooltip.style(\"left\", (event.pageX + 5) + \"px\")\n",
      "                        .style(\"top\", (event.pageY + 5) + \"px\");\n",
      "                })\n",
      "                .on(\"mouseout\", function() {\n",
      "                    tooltip.style(\"opacity\", 0);\n",
      "                });\n",
      "        </script>\n",
      "    </body>\n",
      "    </html>\n",
      "    \n"
     ]
    },
    {
     "data": {
      "text/html": [
       "\n",
       "    <html>\n",
       "    <head>\n",
       "        <title>Domainator Contigs Plot</title>\n",
       "        <script src=\"https://d3js.org/d3.v7.min.js\"></script>\n",
       "        <style>\n",
       "            .tooltip {\n",
       "                position: absolute;\n",
       "                text-align: left;\n",
       "                padding: 8px;\n",
       "                font: 12px sans-serif;\n",
       "                background: lightblue;\n",
       "                border: 0px;\n",
       "                border-radius: 8px;\n",
       "                pointer-events: none;\n",
       "                opacity: 0;\n",
       "            }\n",
       "            .contig-label {\n",
       "                font: 32px sans-serif;\n",
       "            }\n",
       "            .feature-label {\n",
       "                font: 26px sans-serif;\n",
       "            }\n",
       "        </style>\n",
       "    </head>\n",
       "    <body>\n",
       "        <div id=\"details\" style=\"padding: 5px; border: 1px solid #ccc; margin-top: 5; width: 1200; height: 75; overflow: scroll;\"></div>\n",
       "        <div id=\"tooltip\" class=\"tooltip\"></div>\n",
       "        <div>\n",
       "        <svg width=\"1200\" height=\"600\" style=\"padding: 5px; border: 1px solid #ccc; margin-top: 20px; overflow: scroll;\"></svg>\n",
       "        </div>\n",
       "        <script>\n",
       "            var svg = d3.select(\"svg\");\n",
       "            var detailsDiv = d3.select(\"#details\");\n",
       "            var tooltip = d3.select(\"#tooltip\");\n",
       "    \n",
       "            var zoomContainer = svg.append(\"g\");\n",
       "\n",
       "            var zoom = d3.zoom()\n",
       "                .on(\"zoom\", function(event) {\n",
       "                    zoomContainer.attr(\"transform\", event.transform);\n",
       "                    \n",
       "                });\n",
       "            var initialTransform = d3.zoomIdentity.translate(0, 0).scale(0.2684563758389262);\n",
       "            svg.call(zoom)\n",
       "                .call(zoom.transform, initialTransform); // Apply the initial zoom transform correctly\n",
       "\n",
       "            \n",
       "                    \n",
       "            var contigs = [{\"name\": \"pDONR201_1\", \"length\": 4470, \"features\": [{\"name\": \"pDONR201_1\", \"start\": 1, \"end\": 106, \"parts\": [{\"start\": 1, \"end\": 106, \"strand\": \"+\"}], \"type\": \"CDS\", \"color\": \"#CCCCCC\", \"mouseover\": \"<b style=\\\"color:#AA2222;\\\">CDS</b><br><b>start</b>: 1<br><b>end</b>: 106<br><b>strand</b>: +<br><b>gene_id</b>: pDONR201_1<br><b>gene_type</b>: bacteria<br><b>partial</b>: 10<br><b>gc</b>: 49<br><b>length</b>: 105<br><b>source</b>: GeneMark.hmm2<br><b>score</b>: 5.09<br><b>phase</b>: 0<br><b>name</b>: pDONR201_1\", \"z_order\": 0}, {\"name\": \"pDONR201_2\", \"start\": 958, \"end\": 1264, \"parts\": [{\"start\": 958, \"end\": 1264, \"strand\": \"-\"}], \"type\": \"CDS\", \"color\": \"#CCCCCC\", \"mouseover\": \"<b style=\\\"color:#AA2222;\\\">CDS</b><br><b>start</b>: 958<br><b>end</b>: 1264<br><b>strand</b>: -<br><b>gene_id</b>: pDONR201_2<br><b>gene_type</b>: bacteria<br><b>complete</b>: true<br><b>gc</b>: 50<br><b>length</b>: 306<br><b>source</b>: GeneMark.hmm2<br><b>score</b>: 20.71<br><b>phase</b>: 0<br><b>name</b>: pDONR201_2\", \"z_order\": 0}, {\"name\": \"pDONR201_3\", \"start\": 1265, \"end\": 1391, \"parts\": [{\"start\": 1265, \"end\": 1391, \"strand\": \"-\"}], \"type\": \"CDS\", \"color\": \"#CCCCCC\", \"mouseover\": \"<b style=\\\"color:#AA2222;\\\">CDS</b><br><b>start</b>: 1265<br><b>end</b>: 1391<br><b>strand</b>: -<br><b>gene_id</b>: pDONR201_3<br><b>gene_type</b>: bacteria<br><b>complete</b>: true<br><b>gc</b>: 54<br><b>length</b>: 126<br><b>source</b>: GeneMark.hmm2<br><b>score</b>: 5.68<br><b>phase</b>: 0<br><b>name</b>: pDONR201_3\", \"z_order\": 0}, {\"name\": \"pDONR201_4\", \"start\": 1605, \"end\": 2265, \"parts\": [{\"start\": 1605, \"end\": 2265, \"strand\": \"-\"}], \"type\": \"CDS\", \"color\": \"#CCCCCC\", \"mouseover\": \"<b style=\\\"color:#AA2222;\\\">CDS</b><br><b>start</b>: 1605<br><b>end</b>: 2265<br><b>strand</b>: -<br><b>gene_id</b>: pDONR201_4<br><b>gene_type</b>: bacteria<br><b>complete</b>: true<br><b>gc</b>: 45<br><b>length</b>: 660<br><b>source</b>: GeneMark.hmm2<br><b>score</b>: 41.74<br><b>phase</b>: 0<br><b>name</b>: pDONR201_4\", \"z_order\": 0}, {\"name\": \"pDONR201_5\", \"start\": 2915, \"end\": 3677, \"parts\": [{\"start\": 2915, \"end\": 3677, \"strand\": \"+\"}], \"type\": \"CDS\", \"color\": \"#CCCCCC\", \"mouseover\": \"<b style=\\\"color:#AA2222;\\\">CDS</b><br><b>start</b>: 2915<br><b>end</b>: 3677<br><b>strand</b>: +<br><b>gene_id</b>: pDONR201_5<br><b>gene_type</b>: bacteria<br><b>complete</b>: true<br><b>gc</b>: 43<br><b>length</b>: 762<br><b>source</b>: GeneMark.hmm2<br><b>score</b>: 51.92<br><b>phase</b>: 0<br><b>name</b>: pDONR201_5\", \"z_order\": 0}, {\"name\": \"pDONR201_6\", \"start\": 4377, \"end\": 4470, \"parts\": [{\"start\": 4377, \"end\": 4470, \"strand\": \"+\"}], \"type\": \"CDS\", \"color\": \"#CCCCCC\", \"mouseover\": \"<b style=\\\"color:#AA2222;\\\">CDS</b><br><b>start</b>: 4377<br><b>end</b>: 4470<br><b>strand</b>: +<br><b>gene_id</b>: pDONR201_6<br><b>gene_type</b>: bacteria<br><b>partial</b>: 01<br><b>gc</b>: 56<br><b>length</b>: 93<br><b>source</b>: GeneMark.hmm2<br><b>score</b>: 2.26<br><b>phase</b>: 0<br><b>name</b>: pDONR201_6\", \"z_order\": 0}], \"offset\": 97.0, \"mouseover\": \"<b style=\\\"color:#AA2222;\\\">Contig</b><br><b>Name</b>: pDONR201_1<br><b>Description</b>: pDONR201_1<br><b>Length</b>: 4470<br><b>data_file_division</b>: UNK<br><b>date</b>: 01-JAN-1980<br><b>accessions</b>: [&#x27;pDONR201_1&#x27;]<br><b>keywords</b>: [&#x27;&#x27;]<br><b>source</b>: <br><b>organism</b>: .<br><b>taxonomy</b>: []<br><b>molecule_type</b>: DNA\"}, {\"name\": \"pDONR201_2\", \"length\": 4470, \"features\": [{\"name\": \"pDONR201_1\", \"start\": 1, \"end\": 106, \"parts\": [{\"start\": 1, \"end\": 106, \"strand\": \"+\"}], \"type\": \"CDS\", \"color\": \"#CCCCCC\", \"mouseover\": \"<b style=\\\"color:#AA2222;\\\">CDS</b><br><b>start</b>: 1<br><b>end</b>: 106<br><b>strand</b>: +<br><b>gene_id</b>: pDONR201_1<br><b>gene_type</b>: bacteria<br><b>partial</b>: 10<br><b>gc</b>: 49<br><b>length</b>: 105<br><b>source</b>: GeneMark.hmm2<br><b>score</b>: 5.09<br><b>phase</b>: 0<br><b>name</b>: pDONR201_1\", \"z_order\": 0}, {\"name\": \"pDONR201_2\", \"start\": 958, \"end\": 1264, \"parts\": [{\"start\": 958, \"end\": 1264, \"strand\": \"-\"}], \"type\": \"CDS\", \"color\": \"#CCCCCC\", \"mouseover\": \"<b style=\\\"color:#AA2222;\\\">CDS</b><br><b>start</b>: 958<br><b>end</b>: 1264<br><b>strand</b>: -<br><b>gene_id</b>: pDONR201_2<br><b>gene_type</b>: bacteria<br><b>complete</b>: true<br><b>gc</b>: 50<br><b>length</b>: 306<br><b>source</b>: GeneMark.hmm2<br><b>score</b>: 20.71<br><b>phase</b>: 0<br><b>name</b>: pDONR201_2\", \"z_order\": 0}, {\"name\": \"pDONR201_3\", \"start\": 1265, \"end\": 1391, \"parts\": [{\"start\": 1265, \"end\": 1391, \"strand\": \"-\"}], \"type\": \"CDS\", \"color\": \"#CCCCCC\", \"mouseover\": \"<b style=\\\"color:#AA2222;\\\">CDS</b><br><b>start</b>: 1265<br><b>end</b>: 1391<br><b>strand</b>: -<br><b>gene_id</b>: pDONR201_3<br><b>gene_type</b>: bacteria<br><b>complete</b>: true<br><b>gc</b>: 54<br><b>length</b>: 126<br><b>source</b>: GeneMark.hmm2<br><b>score</b>: 5.68<br><b>phase</b>: 0<br><b>name</b>: pDONR201_3\", \"z_order\": 0}, {\"name\": \"pDONR201_4\", \"start\": 1605, \"end\": 2265, \"parts\": [{\"start\": 1605, \"end\": 2265, \"strand\": \"-\"}], \"type\": \"CDS\", \"color\": \"#CCCCCC\", \"mouseover\": \"<b style=\\\"color:#AA2222;\\\">CDS</b><br><b>start</b>: 1605<br><b>end</b>: 2265<br><b>strand</b>: -<br><b>gene_id</b>: pDONR201_4<br><b>gene_type</b>: bacteria<br><b>complete</b>: true<br><b>gc</b>: 45<br><b>length</b>: 660<br><b>source</b>: GeneMark.hmm2<br><b>score</b>: 41.74<br><b>phase</b>: 0<br><b>name</b>: pDONR201_4\", \"z_order\": 0}, {\"name\": \"pDONR201_5\", \"start\": 2915, \"end\": 3677, \"parts\": [{\"start\": 2915, \"end\": 3677, \"strand\": \"+\"}], \"type\": \"CDS\", \"color\": \"#CCCCCC\", \"mouseover\": \"<b style=\\\"color:#AA2222;\\\">CDS</b><br><b>start</b>: 2915<br><b>end</b>: 3677<br><b>strand</b>: +<br><b>gene_id</b>: pDONR201_5<br><b>gene_type</b>: bacteria<br><b>complete</b>: true<br><b>gc</b>: 43<br><b>length</b>: 762<br><b>source</b>: GeneMark.hmm2<br><b>score</b>: 51.92<br><b>phase</b>: 0<br><b>name</b>: pDONR201_5\", \"z_order\": 0}, {\"name\": \"pDONR201_6\", \"start\": 4377, \"end\": 4470, \"parts\": [{\"start\": 4377, \"end\": 4470, \"strand\": \"+\"}], \"type\": \"CDS\", \"color\": \"#CCCCCC\", \"mouseover\": \"<b style=\\\"color:#AA2222;\\\">CDS</b><br><b>start</b>: 4377<br><b>end</b>: 4470<br><b>strand</b>: +<br><b>gene_id</b>: pDONR201_6<br><b>gene_type</b>: bacteria<br><b>partial</b>: 01<br><b>gc</b>: 56<br><b>length</b>: 93<br><b>source</b>: GeneMark.hmm2<br><b>score</b>: 2.26<br><b>phase</b>: 0<br><b>name</b>: pDONR201_6\", \"z_order\": 0}], \"offset\": 194.0, \"mouseover\": \"<b style=\\\"color:#AA2222;\\\">Contig</b><br><b>Name</b>: pDONR201_2<br><b>Description</b>: pDONR201_2<br><b>Length</b>: 4470<br><b>data_file_division</b>: UNK<br><b>date</b>: 01-JAN-1980<br><b>accessions</b>: [&#x27;pDONR201_2&#x27;]<br><b>keywords</b>: [&#x27;&#x27;]<br><b>source</b>: <br><b>organism</b>: .<br><b>taxonomy</b>: []<br><b>molecule_type</b>: DNA\"}, {\"name\": \"pDONR201_3\", \"length\": 4470, \"features\": [{\"name\": \"pDONR201_1\", \"start\": 1, \"end\": 106, \"parts\": [{\"start\": 1, \"end\": 106, \"strand\": \"+\"}], \"type\": \"CDS\", \"color\": \"#CCCCCC\", \"mouseover\": \"<b style=\\\"color:#AA2222;\\\">CDS</b><br><b>start</b>: 1<br><b>end</b>: 106<br><b>strand</b>: +<br><b>gene_id</b>: pDONR201_1<br><b>gene_type</b>: bacteria<br><b>partial</b>: 10<br><b>gc</b>: 49<br><b>length</b>: 105<br><b>source</b>: GeneMark.hmm2<br><b>score</b>: 5.09<br><b>phase</b>: 0<br><b>name</b>: pDONR201_1\", \"z_order\": 0}, {\"name\": \"pDONR201_2\", \"start\": 958, \"end\": 1264, \"parts\": [{\"start\": 958, \"end\": 1264, \"strand\": \"-\"}], \"type\": \"CDS\", \"color\": \"#CCCCCC\", \"mouseover\": \"<b style=\\\"color:#AA2222;\\\">CDS</b><br><b>start</b>: 958<br><b>end</b>: 1264<br><b>strand</b>: -<br><b>gene_id</b>: pDONR201_2<br><b>gene_type</b>: bacteria<br><b>complete</b>: true<br><b>gc</b>: 50<br><b>length</b>: 306<br><b>source</b>: GeneMark.hmm2<br><b>score</b>: 20.71<br><b>phase</b>: 0<br><b>name</b>: pDONR201_2\", \"z_order\": 0}, {\"name\": \"pDONR201_3\", \"start\": 1265, \"end\": 1391, \"parts\": [{\"start\": 1265, \"end\": 1391, \"strand\": \"-\"}], \"type\": \"CDS\", \"color\": \"#CCCCCC\", \"mouseover\": \"<b style=\\\"color:#AA2222;\\\">CDS</b><br><b>start</b>: 1265<br><b>end</b>: 1391<br><b>strand</b>: -<br><b>gene_id</b>: pDONR201_3<br><b>gene_type</b>: bacteria<br><b>complete</b>: true<br><b>gc</b>: 54<br><b>length</b>: 126<br><b>source</b>: GeneMark.hmm2<br><b>score</b>: 5.68<br><b>phase</b>: 0<br><b>name</b>: pDONR201_3\", \"z_order\": 0}, {\"name\": \"pDONR201_4\", \"start\": 1605, \"end\": 2265, \"parts\": [{\"start\": 1605, \"end\": 2265, \"strand\": \"-\"}], \"type\": \"CDS\", \"color\": \"#CCCCCC\", \"mouseover\": \"<b style=\\\"color:#AA2222;\\\">CDS</b><br><b>start</b>: 1605<br><b>end</b>: 2265<br><b>strand</b>: -<br><b>gene_id</b>: pDONR201_4<br><b>gene_type</b>: bacteria<br><b>complete</b>: true<br><b>gc</b>: 45<br><b>length</b>: 660<br><b>source</b>: GeneMark.hmm2<br><b>score</b>: 41.74<br><b>phase</b>: 0<br><b>name</b>: pDONR201_4\", \"z_order\": 0}, {\"name\": \"pDONR201_5\", \"start\": 2915, \"end\": 3677, \"parts\": [{\"start\": 2915, \"end\": 3677, \"strand\": \"+\"}], \"type\": \"CDS\", \"color\": \"#CCCCCC\", \"mouseover\": \"<b style=\\\"color:#AA2222;\\\">CDS</b><br><b>start</b>: 2915<br><b>end</b>: 3677<br><b>strand</b>: +<br><b>gene_id</b>: pDONR201_5<br><b>gene_type</b>: bacteria<br><b>complete</b>: true<br><b>gc</b>: 43<br><b>length</b>: 762<br><b>source</b>: GeneMark.hmm2<br><b>score</b>: 51.92<br><b>phase</b>: 0<br><b>name</b>: pDONR201_5\", \"z_order\": 0}, {\"name\": \"pDONR201_6\", \"start\": 4377, \"end\": 4470, \"parts\": [{\"start\": 4377, \"end\": 4470, \"strand\": \"+\"}], \"type\": \"CDS\", \"color\": \"#CCCCCC\", \"mouseover\": \"<b style=\\\"color:#AA2222;\\\">CDS</b><br><b>start</b>: 4377<br><b>end</b>: 4470<br><b>strand</b>: +<br><b>gene_id</b>: pDONR201_6<br><b>gene_type</b>: bacteria<br><b>partial</b>: 01<br><b>gc</b>: 56<br><b>length</b>: 93<br><b>source</b>: GeneMark.hmm2<br><b>score</b>: 2.26<br><b>phase</b>: 0<br><b>name</b>: pDONR201_6\", \"z_order\": 0}], \"offset\": 291.0, \"mouseover\": \"<b style=\\\"color:#AA2222;\\\">Contig</b><br><b>Name</b>: pDONR201_3<br><b>Description</b>: pDONR201_3<br><b>Length</b>: 4470<br><b>data_file_division</b>: UNK<br><b>date</b>: 01-JAN-1980<br><b>accessions</b>: [&#x27;pDONR201_3&#x27;]<br><b>keywords</b>: [&#x27;&#x27;]<br><b>source</b>: <br><b>organism</b>: .<br><b>taxonomy</b>: []<br><b>molecule_type</b>: DNA\"}, {\"name\": \"pDONR201_4\", \"length\": 4470, \"features\": [{\"name\": \"pDONR201_1\", \"start\": 1, \"end\": 106, \"parts\": [{\"start\": 1, \"end\": 106, \"strand\": \"+\"}], \"type\": \"CDS\", \"color\": \"#CCCCCC\", \"mouseover\": \"<b style=\\\"color:#AA2222;\\\">CDS</b><br><b>start</b>: 1<br><b>end</b>: 106<br><b>strand</b>: +<br><b>gene_id</b>: pDONR201_1<br><b>gene_type</b>: bacteria<br><b>partial</b>: 10<br><b>gc</b>: 49<br><b>length</b>: 105<br><b>source</b>: GeneMark.hmm2<br><b>score</b>: 5.09<br><b>phase</b>: 0<br><b>name</b>: pDONR201_1\", \"z_order\": 0}, {\"name\": \"pDONR201_2\", \"start\": 958, \"end\": 1264, \"parts\": [{\"start\": 958, \"end\": 1264, \"strand\": \"-\"}], \"type\": \"CDS\", \"color\": \"#CCCCCC\", \"mouseover\": \"<b style=\\\"color:#AA2222;\\\">CDS</b><br><b>start</b>: 958<br><b>end</b>: 1264<br><b>strand</b>: -<br><b>gene_id</b>: pDONR201_2<br><b>gene_type</b>: bacteria<br><b>complete</b>: true<br><b>gc</b>: 50<br><b>length</b>: 306<br><b>source</b>: GeneMark.hmm2<br><b>score</b>: 20.71<br><b>phase</b>: 0<br><b>name</b>: pDONR201_2\", \"z_order\": 0}, {\"name\": \"pDONR201_3\", \"start\": 1265, \"end\": 1391, \"parts\": [{\"start\": 1265, \"end\": 1391, \"strand\": \"-\"}], \"type\": \"CDS\", \"color\": \"#CCCCCC\", \"mouseover\": \"<b style=\\\"color:#AA2222;\\\">CDS</b><br><b>start</b>: 1265<br><b>end</b>: 1391<br><b>strand</b>: -<br><b>gene_id</b>: pDONR201_3<br><b>gene_type</b>: bacteria<br><b>complete</b>: true<br><b>gc</b>: 54<br><b>length</b>: 126<br><b>source</b>: GeneMark.hmm2<br><b>score</b>: 5.68<br><b>phase</b>: 0<br><b>name</b>: pDONR201_3\", \"z_order\": 0}, {\"name\": \"pDONR201_4\", \"start\": 1605, \"end\": 2265, \"parts\": [{\"start\": 1605, \"end\": 2265, \"strand\": \"-\"}], \"type\": \"CDS\", \"color\": \"#CCCCCC\", \"mouseover\": \"<b style=\\\"color:#AA2222;\\\">CDS</b><br><b>start</b>: 1605<br><b>end</b>: 2265<br><b>strand</b>: -<br><b>gene_id</b>: pDONR201_4<br><b>gene_type</b>: bacteria<br><b>complete</b>: true<br><b>gc</b>: 45<br><b>length</b>: 660<br><b>source</b>: GeneMark.hmm2<br><b>score</b>: 41.74<br><b>phase</b>: 0<br><b>name</b>: pDONR201_4\", \"z_order\": 0}, {\"name\": \"pDONR201_5\", \"start\": 2915, \"end\": 3677, \"parts\": [{\"start\": 2915, \"end\": 3677, \"strand\": \"+\"}], \"type\": \"CDS\", \"color\": \"#CCCCCC\", \"mouseover\": \"<b style=\\\"color:#AA2222;\\\">CDS</b><br><b>start</b>: 2915<br><b>end</b>: 3677<br><b>strand</b>: +<br><b>gene_id</b>: pDONR201_5<br><b>gene_type</b>: bacteria<br><b>complete</b>: true<br><b>gc</b>: 43<br><b>length</b>: 762<br><b>source</b>: GeneMark.hmm2<br><b>score</b>: 51.92<br><b>phase</b>: 0<br><b>name</b>: pDONR201_5\", \"z_order\": 0}, {\"name\": \"pDONR201_6\", \"start\": 4377, \"end\": 4470, \"parts\": [{\"start\": 4377, \"end\": 4470, \"strand\": \"+\"}], \"type\": \"CDS\", \"color\": \"#CCCCCC\", \"mouseover\": \"<b style=\\\"color:#AA2222;\\\">CDS</b><br><b>start</b>: 4377<br><b>end</b>: 4470<br><b>strand</b>: +<br><b>gene_id</b>: pDONR201_6<br><b>gene_type</b>: bacteria<br><b>partial</b>: 01<br><b>gc</b>: 56<br><b>length</b>: 93<br><b>source</b>: GeneMark.hmm2<br><b>score</b>: 2.26<br><b>phase</b>: 0<br><b>name</b>: pDONR201_6\", \"z_order\": 0}], \"offset\": 388.0, \"mouseover\": \"<b style=\\\"color:#AA2222;\\\">Contig</b><br><b>Name</b>: pDONR201_4<br><b>Description</b>: pDONR201_4<br><b>Length</b>: 4470<br><b>data_file_division</b>: UNK<br><b>date</b>: 01-JAN-1980<br><b>accessions</b>: [&#x27;pDONR201_4&#x27;]<br><b>keywords</b>: [&#x27;&#x27;]<br><b>source</b>: <br><b>organism</b>: .<br><b>taxonomy</b>: []<br><b>molecule_type</b>: DNA\"}];\n",
       "            var contigGroup = zoomContainer.selectAll(\".contig\")\n",
       "                .data(contigs)\n",
       "                .enter()\n",
       "                .append(\"g\")\n",
       "                .attr(\"class\", \"contig\")\n",
       "                .attr(\"transform\", function(d, i) { return \"translate(0,\" + d.offset + \")\"; });\n",
       "            \n",
       "    \n",
       "            contigGroup.append(\"line\")\n",
       "                .attr(\"x1\", 0)\n",
       "                .attr(\"x2\", function(d) { return d.length; })\n",
       "                .attr(\"stroke\", \"black\")\n",
       "                .attr(\"stroke-width\", 20)\n",
       "                .on(\"click\", function(event, d) {\n",
       "                        detailsDiv.html(d.mouseover);\n",
       "                })            \n",
       "                .on(\"mouseover\", function(event, d) {\n",
       "                    tooltip.html(d.mouseover)\n",
       "                        .style(\"opacity\", 1)\n",
       "                        .style(\"left\", (event.pageX + 5) + \"px\")\n",
       "                        .style(\"top\", (event.pageY + 5) + \"px\");\n",
       "\n",
       "                })\n",
       "                .on(\"mousemove\", function(event, d) {\n",
       "                    tooltip.style(\"left\", (event.pageX + 5) + \"px\")\n",
       "                    .style(\"top\", (event.pageY + 5) + \"px\");\n",
       "                })\n",
       "                .on(\"mouseout\", function() {\n",
       "                    tooltip.style(\"opacity\", 0);\n",
       "                });\n",
       "\n",
       "    \n",
       "            var featureGroup = contigGroup.selectAll(\".feature\")\n",
       "                .data(function(d) { return d.features; })\n",
       "                .enter()\n",
       "                .append(\"g\")\n",
       "                .attr(\"class\", \"feature\")\n",
       "                .attr(\"transform\", function(d) { return \"translate(\" + d.start + \",\" + (-50 * d.z_order) + \")\"; });\n",
       "    \n",
       "            featureGroup.each(function(featureData) {\n",
       "                d3.select(this).selectAll(\".part\")\n",
       "                    .data(featureData.parts)\n",
       "                    .enter().append(\"path\")\n",
       "                    .attr(\"d\", function(d) {\n",
       "                        var length = d.end - d.start;\n",
       "                        var arrow_width = 20;  // Width of the arrow part\n",
       "                        var arrow_height = 50;  // Height of the arrow part\n",
       "                        if (d.strand === \"-\") {\n",
       "                            return `M${arrow_width},0 L${length},0 L${length},${-arrow_height} L${arrow_width},${-arrow_height} L0,${-arrow_height/2} Z`;\n",
       "                        } else {\n",
       "                            return `M0,0 L${length - arrow_width},0 L${length},${-arrow_height/2} L${length - arrow_width},${-arrow_height} L0,${-arrow_height} Z`;\n",
       "                        }\n",
       "                    })\n",
       "                    .attr(\"fill\", d => featureData.color)\n",
       "                    .attr(\"stroke\", \"black\")\n",
       "                    .on(\"click\", function(event, d) {\n",
       "                        detailsDiv.html(featureData.mouseover);\n",
       "                    })            \n",
       "                    .on(\"mouseover\", function(event, d) {\n",
       "                        tooltip.html(featureData.mouseover)\n",
       "                            .style(\"opacity\", 1)\n",
       "                            .style(\"left\", (event.pageX + 5) + \"px\")\n",
       "                            .style(\"top\", (event.pageY + 5) + \"px\");\n",
       "\n",
       "                    })\n",
       "                    .on(\"mousemove\", function(event, d) {\n",
       "                        tooltip.style(\"left\", (event.pageX + 5) + \"px\")\n",
       "                        .style(\"top\", (event.pageY + 5) + \"px\");\n",
       "                    })\n",
       "                    .on(\"mouseout\", function() {\n",
       "                        tooltip.style(\"opacity\", 0);\n",
       "                    });\n",
       "            });\n",
       "    \n",
       "            featureGroup.append(\"text\")\n",
       "                .attr(\"class\", \"feature-label\")\n",
       "                .attr(\"x\", 20)\n",
       "                .attr(\"y\", -7)\n",
       "                .attr(\"text-anchor\", \"start\")\n",
       "                .text(d => d.name)\n",
       "                .on(\"click\", function(event, d) {\n",
       "                    detailsDiv.html(d.mouseover);\n",
       "                })            \n",
       "                .on(\"mouseover\", function(event, d) {\n",
       "                    tooltip.html(d.mouseover)\n",
       "                        .style(\"opacity\", 1)\n",
       "                        .style(\"left\", (event.pageX + 5) + \"px\")\n",
       "                        .style(\"top\", (event.pageY + 5) + \"px\");\n",
       "                })\n",
       "                .on(\"mousemove\", function(event, d) {\n",
       "                    tooltip.style(\"left\", (event.pageX + 5) + \"px\")\n",
       "                    .style(\"top\", (event.pageY + 5) + \"px\");\n",
       "                })\n",
       "                .on(\"mouseout\", function() {\n",
       "                    tooltip.style(\"opacity\", 0);\n",
       "                });\n",
       "\n",
       "            contigGroup.append(\"text\")\n",
       "                .attr(\"class\", \"contig-label\")\n",
       "                .attr(\"y\", 32 + 10.0)\n",
       "                .attr(\"x\", 0)\n",
       "                .attr(\"text-anchor\", \"top\")\n",
       "                .text(function(d) { return d.name; })\n",
       "                .on(\"click\", function(event, d) {\n",
       "                    detailsDiv.html(d.mouseover);\n",
       "                })\n",
       "                .on(\"mouseover\", function(event, d) {\n",
       "                    tooltip.html(d.mouseover)\n",
       "                        .style(\"opacity\", 1)\n",
       "                        .style(\"left\", (event.pageX + 5) + \"px\")\n",
       "                        .style(\"top\", (event.pageY + 5) + \"px\");\n",
       "                })\n",
       "                .on(\"mousemove\", function(event) {\n",
       "                    tooltip.style(\"left\", (event.pageX + 5) + \"px\")\n",
       "                        .style(\"top\", (event.pageY + 5) + \"px\");\n",
       "                })\n",
       "                .on(\"mouseout\", function() {\n",
       "                    tooltip.style(\"opacity\", 0);\n",
       "                });\n",
       "        </script>\n",
       "    </body>\n",
       "    </html>\n",
       "    "
      ],
      "text/plain": [
       "<IPython.core.display.HTML object>"
      ]
     },
     "execution_count": 2,
     "metadata": {},
     "output_type": "execute_result"
    }
   ],
   "source": [
    "from domainator.plot_contigs import show_contigs\n",
    "\n",
    "show_contigs(\"../../test/data/pDONR201_multi_genemark.gb\")\n"
   ]
  },
  {
   "cell_type": "code",
   "execution_count": 3,
   "metadata": {},
   "outputs": [
    {
     "name": "stdout",
     "output_type": "stream",
     "text": [
      "/home/sean/scripts/python/domainator/example_notebooks/Rousset_P4_defense_hotspots\n"
     ]
    }
   ],
   "source": [
    "!pwd\n",
    "\n"
   ]
  }
 ],
 "metadata": {
  "kernelspec": {
   "display_name": "domainator",
   "language": "python",
   "name": "python3"
  },
  "language_info": {
   "codemirror_mode": {
    "name": "ipython",
    "version": 3
   },
   "file_extension": ".py",
   "mimetype": "text/x-python",
   "name": "python",
   "nbconvert_exporter": "python",
   "pygments_lexer": "ipython3",
   "version": "3.10.12"
  }
 },
 "nbformat": 4,
 "nbformat_minor": 2
}
